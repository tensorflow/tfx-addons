{
  "cells": [
    {
      "cell_type": "markdown",
      "metadata": {
        "colab_type": "text",
        "id": "view-in-github"
      },
      "source": [
        "<a href=\"https://colab.research.google.com/github/rcrowe-google/schemacomponent/blob/Nirzari%2Ffeature%2Fexample/example/taxi_example_colab.ipynb\" target=\"_parent\"><img src=\"https://colab.research.google.com/assets/colab-badge.svg\" alt=\"Open In Colab\"/></a>"
      ]
    },
    {
      "cell_type": "markdown",
      "metadata": {
        "id": "tjdL-1KzpQsN"
      },
      "source": [
        "# Chicago taxi example using TFX schema curation custom component\n",
        "\n",
        "This example demonstrate the use of schema curation custom component. User defined function `schema_fn` defined in `module_file.py` is used to change schema feature `tips` from required to optional using schema curation component.\n",
        "\n",
        "base code taken from: https://github.com/tensorflow/tfx/blob/master/docs/tutorials/tfx/components_keras.ipynb"
      ]
    },
    {
      "cell_type": "markdown",
      "metadata": {
        "id": "tMWVJKcLQ6c0"
      },
      "source": [
        "## Setup"
      ]
    },
    {
      "cell_type": "markdown",
      "metadata": {
        "id": "MZOYTt1RW4TK"
      },
      "source": [
        "### Install TFX\n",
        "\n",
        "**Note: In Google Colab, because of package updates, the first time you run this cell you must restart the runtime (Runtime > Restart runtime ...).**"
      ]
    },
    {
      "cell_type": "code",
      "execution_count": null,
      "metadata": {
        "colab": {
          "base_uri": "https://localhost:8080/"
        },
        "id": "S4SQA7Q5nej3",
        "outputId": "9c250f97-a00f-4d31-d0b7-2c312a8b9a61"
      },
      "outputs": [],
      "source": [
        "!pip install -U tfx"
      ]
    },
    {
      "cell_type": "code",
      "execution_count": null,
      "metadata": {
        "colab": {
          "base_uri": "https://localhost:8080/"
        },
        "id": "VBcF0mYLOe6w",
        "outputId": "cfaeffd5-7f73-4304-b413-ae0fcf33f1dc"
      },
      "outputs": [],
      "source": [
        "x = !pwd\n",
        "\n",
        "if 'schemacomponent' not in str(x):\n",
        "  !git clone https://github.com/rcrowe-google/schemacomponent\n",
        "  %cd schemacomponent/example"
      ]
    },
    {
      "cell_type": "markdown",
      "metadata": {
        "id": "0OUhlid3RCV1"
      },
      "source": [
        "## Chicago taxi example pipeline\n"
      ]
    },
    {
      "cell_type": "code",
      "execution_count": null,
      "metadata": {
        "colab": {
          "base_uri": "https://localhost:8080/"
        },
        "id": "YIqpWK9efviJ",
        "outputId": "08db2bd2-e34b-4d8b-a1a1-f3a0bbba0cfc"
      },
      "outputs": [],
      "source": [
        "import os\n",
        "import pprint\n",
        "import tempfile\n",
        "import urllib\n",
        "\n",
        "import absl\n",
        "import tensorflow as tf\n",
        "import tensorflow_model_analysis as tfma\n",
        "tf.get_logger().propagate = False\n",
        "pp = pprint.PrettyPrinter()\n",
        "\n",
        "from tfx import v1 as tfx\n",
        "from tfx.orchestration.experimental.interactive.interactive_context import InteractiveContext\n",
        "\n",
        "%load_ext tfx.orchestration.experimental.interactive.notebook_extensions.skip"
      ]
    },
    {
      "cell_type": "code",
      "execution_count": null,
      "metadata": {
        "id": "bXGK30MDQd9m"
      },
      "outputs": [],
      "source": [
        "from schemacomponent.component import component"
      ]
    },
    {
      "cell_type": "markdown",
      "metadata": {
        "id": "ufJKQ6OvkJlY"
      },
      "source": [
        "### Set up pipeline paths"
      ]
    },
    {
      "cell_type": "code",
      "execution_count": null,
      "metadata": {
        "id": "ad5JLpKbf6sN"
      },
      "outputs": [],
      "source": [
        "# This is the root directory for your TFX pip package installation.\n",
        "_tfx_root = tfx.__path__[0]"
      ]
    },
    {
      "cell_type": "markdown",
      "metadata": {
        "id": "n2cMMAbSkGfX"
      },
      "source": [
        "### Download example data\n",
        "We download the example dataset for use in our TFX pipeline.\n",
        "\n",
        "The dataset we're using is the [Taxi Trips dataset](https://data.cityofchicago.org/Transportation/Taxi-Trips/wrvz-psew) released by the City of Chicago. The columns in this dataset are:\n",
        "\n",
        "<table>\n",
        "<tr><td>pickup_community_area</td><td>fare</td><td>trip_start_month</td></tr>\n",
        "<tr><td>trip_start_hour</td><td>trip_start_day</td><td>trip_start_timestamp</td></tr>\n",
        "<tr><td>pickup_latitude</td><td>pickup_longitude</td><td>dropoff_latitude</td></tr>\n",
        "<tr><td>dropoff_longitude</td><td>trip_miles</td><td>pickup_census_tract</td></tr>\n",
        "<tr><td>dropoff_census_tract</td><td>payment_type</td><td>company</td></tr>\n",
        "<tr><td>trip_seconds</td><td>dropoff_community_area</td><td>tips</td></tr>\n",
        "</table>\n",
        "\n",
        "With this dataset, we will build a model that predicts the `tips` of a trip."
      ]
    },
    {
      "cell_type": "code",
      "execution_count": null,
      "metadata": {
        "colab": {
          "base_uri": "https://localhost:8080/"
        },
        "id": "BywX6OUEhAqn",
        "outputId": "ec214f25-e5eb-4e77-bf91-1c65675c8a3f"
      },
      "outputs": [],
      "source": [
        "_data_root = tempfile.mkdtemp(prefix='tfx-data')\n",
        "DATA_PATH = 'https://raw.githubusercontent.com/tensorflow/tfx/master/tfx/examples/chicago_taxi_pipeline/data/simple/data.csv'\n",
        "_data_filepath = os.path.join(_data_root, \"data.csv\")\n",
        "urllib.request.urlretrieve(DATA_PATH, _data_filepath)"
      ]
    },
    {
      "cell_type": "markdown",
      "metadata": {
        "id": "HdQWxfsVkzdJ"
      },
      "source": [
        "## Run TFX components \n",
        "In the cells that follow, we create TFX components one-by-one and generates `schema` using `schemaGen` component."
      ]
    },
    {
      "cell_type": "code",
      "execution_count": null,
      "metadata": {
        "colab": {
          "base_uri": "https://localhost:8080/",
          "height": 0
        },
        "id": "0Rh6K5sUf9dd",
        "outputId": "560dbd32-57c2-4b63-d39d-d5f0a0c020a2"
      },
      "outputs": [],
      "source": [
        "context = InteractiveContext()\n",
        "\n",
        "#create and run exampleGen component\n",
        "example_gen = tfx.components.CsvExampleGen(input_base=_data_root)\n",
        "context.run(example_gen)\n",
        "\n",
        "#create and run statisticsGen component\n",
        "statistics_gen = tfx.components.StatisticsGen(\n",
        "    examples=example_gen.outputs['examples'])\n",
        "context.run(statistics_gen)\n",
        "\n",
        "#create and run schemaGen component\n",
        "schema_gen = tfx.components.SchemaGen(\n",
        "    statistics=statistics_gen.outputs['statistics'],\n",
        "    infer_feature_shape=False)\n",
        "context.run(schema_gen)\n"
      ]
    },
    {
      "cell_type": "markdown",
      "metadata": {
        "id": "XmCvzk0Lrycj"
      },
      "source": [
        "## Schema curation custom component\n",
        "\n",
        "Using schema curation component `tips` is changed into `optional` feature\n",
        "\n",
        "Code for modifying schema is in user supplied `schema_fn` in `module_file.py`\n"
      ]
    },
    {
      "cell_type": "markdown",
      "metadata": {
        "id": "5P6vQsBnsswu"
      },
      "source": [
        "### Display infered schema\n",
        "\n",
        "In the infered schema, `tips` feature is shown as a `required` feature:\n",
        "\n",
        "\n",
        "      tips | FLOAT |\trequired\t| single\t\n",
        "\n",
        "\n"
      ]
    },
    {
      "cell_type": "code",
      "execution_count": null,
      "metadata": {
        "colab": {
          "base_uri": "https://localhost:8080/",
          "height": 980
        },
        "id": "VkeNRpv9t-gq",
        "outputId": "d54fc6df-d907-400c-91e1-aaa64dfd2fa3"
      },
      "outputs": [],
      "source": [
        "#display infered schema\n",
        "context.show(schema_gen.outputs['schema'])"
      ]
    },
    {
      "cell_type": "markdown",
      "metadata": {
        "id": "tgdyxwyNwCxo"
      },
      "source": [
        "### Modifying schema "
      ]
    },
    {
      "cell_type": "code",
      "execution_count": null,
      "metadata": {
        "colab": {
          "base_uri": "https://localhost:8080/",
          "height": 186
        },
        "id": "1N4dUbwcHuXj",
        "outputId": "4eb718a9-cc2a-48f4-ef90-859e14472b40"
      },
      "outputs": [],
      "source": [
        "#schema curation component\n",
        "schema_curation = component.SchemaCuration(schema=schema_gen.outputs['schema'],\n",
        "        module_file='module_file.py')\n",
        "context.run(schema_curation)"
      ]
    },
    {
      "cell_type": "markdown",
      "metadata": {
        "id": "lE0MG8O8we18"
      },
      "source": [
        "### Display modified schema\n",
        "\n",
        "feature `tips` is now `optional` in the modified schema"
      ]
    },
    {
      "cell_type": "code",
      "execution_count": null,
      "metadata": {
        "colab": {
          "base_uri": "https://localhost:8080/",
          "height": 980
        },
        "id": "cfnuieU2wpr0",
        "outputId": "2fe236e9-9dc0-4fd0-f756-7614c5ec267f"
      },
      "outputs": [],
      "source": [
        "context.show(schema_curation.outputs['custom_schema'])"
      ]
    }
  ],
  "metadata": {
    "colab": {
      "authorship_tag": "ABX9TyNGyhXDctEqF+Zz/p4gws6b",
      "include_colab_link": true,
      "name": "taxi_example.ipynb",
      "provenance": []
    },
    "kernelspec": {
      "display_name": "Python 3",
      "name": "python3"
    },
    "language_info": {
      "name": "python"
    }
  },
  "nbformat": 4,
  "nbformat_minor": 0
}
