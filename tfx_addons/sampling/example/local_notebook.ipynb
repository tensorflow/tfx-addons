{
 "cells": [
  {
   "cell_type": "code",
   "execution_count": null,
   "id": "e77a7ffb",
   "metadata": {},
   "outputs": [],
   "source": [
    "%load_ext autoreload\n",
    "%autoreload 2"
   ]
  },
  {
   "cell_type": "code",
   "execution_count": null,
   "id": "ee3fec52",
   "metadata": {},
   "outputs": [],
   "source": [
    "import os\n",
    "import pprint\n",
    "import tempfile\n",
    "import urllib\n",
    "\n",
    "import absl\n",
    "import tensorflow as tf\n",
    "import tensorflow_model_analysis as tfma\n",
    "tf.get_logger().propagate = False\n",
    "pp = pprint.PrettyPrinter()\n",
    "\n",
    "from typing import List, Text\n",
    "\n",
    "from tfx.components import CsvExampleGen\n",
    "from tfx.components import Evaluator\n",
    "from tfx.components import ExampleValidator\n",
    "from tfx.components import Pusher\n",
    "from tfx.components import SchemaGen\n",
    "from tfx.components import StatisticsGen\n",
    "from tfx.components import Trainer\n",
    "from tfx.components import Transform\n",
    "from tfx.components.trainer.executor import Executor\n",
    "from tfx.dsl.components.base import executor_spec\n",
    "from tfx.dsl.components.common import resolver\n",
    "from tfx.dsl.experimental import latest_artifacts_resolver\n",
    "from tfx.dsl.experimental import latest_blessed_model_resolver\n",
    "from tfx.orchestration import metadata\n",
    "from tfx.orchestration import pipeline\n",
    "from tfx.orchestration.local.local_dag_runner import LocalDagRunner\n",
    "from tfx.proto import pusher_pb2\n",
    "from tfx.proto import trainer_pb2\n",
    "from tfx.types import Channel\n",
    "from tfx.types.standard_artifacts import Model\n",
    "from tfx.types.standard_artifacts import ModelBlessing"
   ]
  },
  {
   "cell_type": "code",
   "execution_count": null,
   "id": "b3bc2da6",
   "metadata": {},
   "outputs": [],
   "source": [
    "from tfx.orchestration.experimental.interactive.interactive_context import InteractiveContext\n",
    "context = InteractiveContext()"
   ]
  },
  {
   "cell_type": "code",
   "execution_count": null,
   "id": "5a907e30",
   "metadata": {
    "scrolled": true
   },
   "outputs": [],
   "source": [
    "_pipeline_name = 'sampling_credit_card'\n",
    "_sampling_root = os.path.dirname(\".\")\n",
    "_data_root = os.path.join(_sampling_root, 'data')\n",
    "# Python module file to inject customized logic into the TFX components. The\n",
    "# Transform and Trainer both require user-defined functions to run successfully.\n",
    "_module_file = os.path.join(_sampling_root, 'sampler_utils.py')\n",
    "_serving_model_dir = os.path.join(_sampling_root, 'serving_model', _pipeline_name)\n",
    "_tfx_root = os.path.join(os.environ['HOME'], 'tfx')\n",
    "_pipeline_root = os.path.join(_tfx_root, 'pipelines', _pipeline_name)\n",
    "_metadata_path = os.path.join(_tfx_root, 'metadata', _pipeline_name,\n",
    "                              'metadata.db')"
   ]
  },
  {
   "cell_type": "code",
   "execution_count": null,
   "id": "a938a94c",
   "metadata": {},
   "outputs": [],
   "source": [
    "_beam_pipeline_args = [\n",
    "    '--direct_running_mode=multi_processing',\n",
    "    # 0 means auto-detect based on on the number of CPUs available\n",
    "    # during execution time.\n",
    "    '--direct_num_workers=0',\n",
    "]"
   ]
  },
  {
   "cell_type": "code",
   "execution_count": null,
   "id": "1adeb301",
   "metadata": {},
   "outputs": [],
   "source": [
    "example_gen = CsvExampleGen(input_base=_data_root)\n",
    "context.run(example_gen)"
   ]
  },
  {
   "cell_type": "code",
   "execution_count": null,
   "id": "942a573e",
   "metadata": {},
   "outputs": [],
   "source": [
    "statistics_gen = StatisticsGen(examples=example_gen.outputs['examples'])\n",
    "context.run(statistics_gen)"
   ]
  },
  {
   "cell_type": "code",
   "execution_count": null,
   "id": "a8b86a38",
   "metadata": {},
   "outputs": [],
   "source": [
    "context.show(statistics_gen.outputs['statistics'])"
   ]
  },
  {
   "cell_type": "code",
   "execution_count": null,
   "id": "474f3e61",
   "metadata": {},
   "outputs": [],
   "source": [
    "schema_gen = SchemaGen(\n",
    "  statistics=statistics_gen.outputs['statistics'],\n",
    "  infer_feature_shape=False)\n",
    "context.run(schema_gen)"
   ]
  },
  {
   "cell_type": "code",
   "execution_count": null,
   "id": "cef902d6",
   "metadata": {},
   "outputs": [],
   "source": [
    "example_validator = ExampleValidator(\n",
    "  statistics=statistics_gen.outputs['statistics'],\n",
    "  schema=schema_gen.outputs['schema'])\n",
    "context.run(example_validator)"
   ]
  },
  {
   "cell_type": "code",
   "execution_count": null,
   "id": "beed1b0c",
   "metadata": {
    "scrolled": false
   },
   "outputs": [],
   "source": [
    "from tfx_addons.sampling.component import Sampler\n",
    "\n",
    "sampler = Sampler(\n",
    "  input_data=example_gen.outputs['examples'],\n",
    "  splits=['train'],\n",
    "  label='Class',\n",
    ")\n",
    "context.run(sampler)"
   ]
  },
  {
   "cell_type": "code",
   "execution_count": null,
   "id": "aa188a86",
   "metadata": {},
   "outputs": [],
   "source": [
    "sampler_stats = StatisticsGen(examples=sampler.outputs['output_data'])\n",
    "context.run(sampler_stats)"
   ]
  },
  {
   "cell_type": "code",
   "execution_count": null,
   "id": "14ea4771",
   "metadata": {},
   "outputs": [],
   "source": [
    "context.show(sampler_stats.outputs['statistics'])"
   ]
  },
  {
   "cell_type": "code",
   "execution_count": null,
   "id": "89aaf82b",
   "metadata": {
    "scrolled": false
   },
   "outputs": [],
   "source": [
    "transform = Transform(\n",
    "  examples=sampler.outputs['output_data'],\n",
    "  schema=schema_gen.outputs['schema'],\n",
    "  module_file=_module_file)\n",
    "context.run(transform)"
   ]
  },
  {
   "cell_type": "code",
   "execution_count": null,
   "id": "72ea515d",
   "metadata": {},
   "outputs": [],
   "source": [
    "latest_model_resolver = resolver.Resolver(\n",
    "  strategy_class=latest_artifacts_resolver.LatestArtifactsResolver,\n",
    "  latest_model=Channel(type=Model)).with_id('latest_model_resolver')\n",
    "context.run(latest_model_resolver)"
   ]
  },
  {
   "cell_type": "code",
   "execution_count": null,
   "id": "4f108882",
   "metadata": {
    "scrolled": true
   },
   "outputs": [],
   "source": [
    "trainer = Trainer(\n",
    "  module_file=_module_file,\n",
    "  custom_executor_spec=executor_spec.ExecutorClassSpec(Executor),\n",
    "  transformed_examples=transform.outputs['transformed_examples'],\n",
    "  schema=schema_gen.outputs['schema'],\n",
    "  base_model=latest_model_resolver.outputs['latest_model'],\n",
    "  transform_graph=transform.outputs['transform_graph'],\n",
    "  train_args=trainer_pb2.TrainArgs(num_steps=10000),\n",
    "  eval_args=trainer_pb2.EvalArgs(num_steps=5000))\n",
    "context.run(trainer)"
   ]
  },
  {
   "cell_type": "code",
   "execution_count": null,
   "id": "8f36df1d",
   "metadata": {},
   "outputs": [],
   "source": [
    "model_resolver = resolver.Resolver(\n",
    "  strategy_class=latest_blessed_model_resolver.LatestBlessedModelResolver,\n",
    "  model=Channel(type=Model),\n",
    "  model_blessing=Channel(\n",
    "      type=ModelBlessing)).with_id('latest_blessed_model_resolver')\n",
    "context.run(model_resolver)"
   ]
  },
  {
   "cell_type": "code",
   "execution_count": null,
   "id": "9a615477",
   "metadata": {},
   "outputs": [],
   "source": [
    "eval_config = tfma.EvalConfig(\n",
    "  model_specs=[tfma.ModelSpec(signature_name='eval')],\n",
    "  slicing_specs=[\n",
    "      tfma.SlicingSpec(),\n",
    "      tfma.SlicingSpec(feature_keys=['trip_start_hour'])\n",
    "  ],\n",
    "  metrics_specs=[\n",
    "      tfma.MetricsSpec(\n",
    "          thresholds={\n",
    "              'accuracy':\n",
    "                  tfma.config.MetricThreshold(\n",
    "                      value_threshold=tfma.GenericValueThreshold(\n",
    "                          lower_bound={'value': 0.6}),\n",
    "                      change_threshold=tfma.GenericChangeThreshold(\n",
    "                          direction=tfma.MetricDirection.HIGHER_IS_BETTER,\n",
    "                          absolute={'value': -1e-10}))\n",
    "          })\n",
    "  ])"
   ]
  },
  {
   "cell_type": "code",
   "execution_count": null,
   "id": "c1d1c3ee",
   "metadata": {},
   "outputs": [],
   "source": [
    "evaluator = Evaluator(\n",
    "  examples=example_gen.outputs['examples'],\n",
    "  model=trainer.outputs['model'],\n",
    "  baseline_model=model_resolver.outputs['model'],\n",
    "  eval_config=eval_config)\n",
    "context.run(evaluator)"
   ]
  },
  {
   "cell_type": "code",
   "execution_count": null,
   "id": "bb938a83",
   "metadata": {},
   "outputs": [],
   "source": [
    "pusher = Pusher(\n",
    "  model=trainer.outputs['model'],\n",
    "  model_blessing=evaluator.outputs['blessing'],\n",
    "  push_destination=pusher_pb2.PushDestination(\n",
    "      filesystem=pusher_pb2.PushDestination.Filesystem(\n",
    "          base_directory=_serving_model_dir)))\n",
    "context.run(pusher)"
   ]
  },
  {
   "cell_type": "code",
   "execution_count": null,
   "id": "5277c618",
   "metadata": {},
   "outputs": [],
   "source": []
  }
 ],
 "metadata": {
  "kernelspec": {
   "display_name": "Python 3",
   "language": "python",
   "name": "python3"
  },
  "language_info": {
   "codemirror_mode": {
    "name": "ipython",
    "version": 3
   },
   "file_extension": ".py",
   "mimetype": "text/x-python",
   "name": "python",
   "nbconvert_exporter": "python",
   "pygments_lexer": "ipython3",
   "version": "3.8.2"
  }
 },
 "nbformat": 4,
 "nbformat_minor": 5
}
