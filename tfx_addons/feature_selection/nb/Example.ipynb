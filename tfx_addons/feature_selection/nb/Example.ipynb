{
 "cells": [
  {
   "cell_type": "code",
   "execution_count": null,
   "id": "408bf10c",
   "metadata": {},
   "outputs": [],
   "source": [
    "from component import FeatureSelection\n",
    "from tfx.components import CsvExampleGen\n",
    "from tfx.orchestration.experimental.interactive.interactive_context import InteractiveContext"
   ]
  },
  {
   "cell_type": "code",
   "execution_count": null,
   "id": "95533af7",
   "metadata": {},
   "outputs": [],
   "source": [
    "context = InteractiveContext()"
   ]
  },
  {
   "cell_type": "code",
   "execution_count": null,
   "id": "d1e35dbe",
   "metadata": {},
   "outputs": [],
   "source": [
    "import urllib.request\n",
    "import tempfile\n",
    "import os\n",
    "\n",
    "# getting data and setup CsvExampleGen\n",
    "DATA_ROOT = tempfile.mkdtemp(prefix='tfx-data')  # Create a temporary directory.\n",
    "_data_url = 'https://raw.githubusercontent.com/tensorflow/tfx/master/tfx/examples/penguin/data/labelled/penguins_processed.csv'\n",
    "_data_filepath = os.path.join(DATA_ROOT, \"data.csv\")\n",
    "urllib.request.urlretrieve(_data_url, _data_filepath)"
   ]
  },
  {
   "cell_type": "code",
   "execution_count": null,
   "id": "36c3d298",
   "metadata": {},
   "outputs": [],
   "source": [
    "example_gen = CsvExampleGen(input_base=DATA_ROOT)\n",
    "context.run(example_gen)"
   ]
  },
  {
   "cell_type": "code",
   "execution_count": null,
   "id": "fa28bcd8",
   "metadata": {},
   "outputs": [],
   "source": [
    "# give path to the module file\n",
    "feature_selector = FeatureSelection(orig_examples = example_gen.outputs['examples'],\n",
    "                                   module_file=\"module_file\")"
   ]
  },
  {
   "cell_type": "code",
   "execution_count": null,
   "id": "9afcfe7f",
   "metadata": {},
   "outputs": [],
   "source": [
    "context.run(feature_selector)"
   ]
  },
  {
   "cell_type": "code",
   "execution_count": null,
   "id": "b088c2c8",
   "metadata": {},
   "outputs": [],
   "source": []
  }
 ],
 "metadata": {
  "kernelspec": {
   "display_name": "Python 3 (ipykernel)",
   "language": "python",
   "name": "python3"
  },
  "language_info": {
   "codemirror_mode": {
    "name": "ipython",
    "version": 3
   },
   "file_extension": ".py",
   "mimetype": "text/x-python",
   "name": "python",
   "nbconvert_exporter": "python",
   "pygments_lexer": "ipython3",
   "version": "3.7.10"
  }
 },
 "nbformat": 4,
 "nbformat_minor": 5
}
