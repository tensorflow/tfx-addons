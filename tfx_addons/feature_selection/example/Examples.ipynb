{
  "cells": [
    {
      "cell_type": "markdown",
      "metadata": {
        "colab_type": "text",
        "id": "view-in-github"
      },
      "source": [
        "<a href=\"https://colab.research.google.com/github/rcrowe-google/tfx-addons-outreachy/blob/Fatima%2Ffeature%2Fexample/tfx_addons/feature_selection/example/Examples.ipynb\" target=\"_parent\"><img src=\"https://colab.research.google.com/assets/colab-badge.svg\" alt=\"Open In Colab\"/></a>"
      ]
    },
    {
      "cell_type": "markdown",
      "metadata": {
        "id": "QHa7kyAg2Kv1"
      },
      "source": [
        "**Various examples using TFX Feature Selection Component** \n",
        "\n",
        "This example demonstrate the use of feature selection component. This project allows the user to select different algorithms for performing feature selection on datasets artifacts in TFX pipelines\n",
        "\n",
        "base code taken from: https://github.com/tensorflow/tfx/blob/master/docs/tutorials/tfx/components_keras.ipynb"
      ]
    },
    {
      "cell_type": "markdown",
      "metadata": {
        "id": "UnwhK4Id2aH-"
      },
      "source": [
        "**Install TFX**\n",
        "\n",
        "Note: In Google Colab, because of package updates, the first time you run this cell you must restart the runtime (Runtime > Restart runtime ...)."
      ]
    },
    {
      "cell_type": "code",
      "execution_count": null,
      "metadata": {
        "colab": {
          "base_uri": "https://localhost:8080/",
          "height": 1000
        },
        "id": "jxBqYh9_1mVu",
        "outputId": "8846c618-5763-4085-e96d-ab6edbc9cd7f"
      },
      "outputs": [],
      "source": [
        "!pip install -U tfx"
      ]
    },
    {
      "cell_type": "code",
      "execution_count": null,
      "metadata": {
        "colab": {
          "base_uri": "https://localhost:8080/"
        },
        "id": "wunyGiMlzpaG",
        "outputId": "f6ab2c1a-29b5-4c7a-c204-83a6daf23cb4"
      },
      "outputs": [],
      "source": [
        "x = !pwd\n",
        "\n",
        "if 'feature_selection' not in str(x):\n",
        "  !git clone  -b Fatima/feature/example https://github.com/rcrowe-google/tfx-addons-outreachy.git\n",
        "  %cd tfx-addons-outreachy/tfx_addons/feature_selection"
      ]
    },
    {
      "cell_type": "markdown",
      "metadata": {
        "id": "r4wI2w2C0K5g"
      },
      "source": [
        "**Import packages**\n",
        "\n",
        "We import necessary packages, including standard TFX component classes."
      ]
    },
    {
      "cell_type": "code",
      "execution_count": null,
      "metadata": {
        "colab": {
          "base_uri": "https://localhost:8080/"
        },
        "id": "_S6TcS2IzQRt",
        "outputId": "0f5606b2-f324-40ac-8024-17f09bf71d54"
      },
      "outputs": [],
      "source": [
        "import os\n",
        "import pprint\n",
        "import tempfile\n",
        "import urllib\n",
        "\n",
        "import absl\n",
        "import tensorflow as tf\n",
        "import tensorflow_model_analysis as tfma\n",
        "tf.get_logger().propagate = False\n",
        "import importlib\n",
        "pp = pprint.PrettyPrinter()\n",
        "\n",
        "from tfx import v1 as tfx\n",
        "import importlib\n",
        "from tfx.components import CsvExampleGen\n",
        "from tfx.orchestration.experimental.interactive.interactive_context import InteractiveContext\n",
        "\n",
        "%load_ext tfx.orchestration.experimental.interactive.notebook_extensions.skip\n",
        "\n",
        "\n",
        "from feature_selection.component import FeatureSelection\n",
        "\n",
        "\n",
        "# This is the root directory for your TFX pip package installation.\n",
        "_tfx_root = tfx.__path__[0]"
      ]
    },
    {
      "cell_type": "markdown",
      "metadata": {
        "id": "8L4nDjy21OMR"
      },
      "source": [
        "# Palmer Penguins example using TFX Feature Selection Component\n",
        "\n",
        "### Download example data\n",
        "We download the example dataset for use in our TFX pipeline.\n",
        "\n",
        "The dataset we're using is the [Palmer Penguins dataset](https://allisonhorst.github.io/palmerpenguins/articles/intro.html) which is also used in other\n",
        "[TFX examples](https://github.com/tensorflow/tfx/tree/master/tfx/examples/penguin).\n",
        "\n",
        "There are four numeric features in this dataset:\n",
        "\n",
        "- culmen_length_mm\n",
        "- culmen_depth_mm\n",
        "- flipper_length_mm\n",
        "- body_mass_g\n",
        "\n",
        "All features were already normalized to have range [0,1]. We will build a\n",
        "that selects 2 features to be eliminated from the dataset in other to improve the performance of the mode in predicting the `species` of penguins."
      ]
    },
    {
      "cell_type": "code",
      "execution_count": null,
      "metadata": {
        "colab": {
          "base_uri": "https://localhost:8080/"
        },
        "id": "JlwffB0Y1Ske",
        "outputId": "64931e2c-6db1-42e2-ed77-d86915bb6761"
      },
      "outputs": [],
      "source": [
        "_data_root = tempfile.mkdtemp(prefix='tfx-data')\n",
        "DATA_PATH = 'https://raw.githubusercontent.com/tensorflow/tfx/master/tfx/examples/penguin/data/labelled/penguins_processed.csv'\n",
        "             \n",
        "_data_filepath = os.path.join(_data_root, \"data.csv\")\n",
        "urllib.request.urlretrieve(DATA_PATH, _data_filepath)"
      ]
    },
    {
      "cell_type": "markdown",
      "metadata": {
        "id": "2FfNbbSh1ddi"
      },
      "source": [
        "**Run TFX components**\n",
        "\n",
        "In the cells that follow, we create TFX components one-by-one and generates `example` using `exampleGen` component."
      ]
    },
    {
      "cell_type": "code",
      "execution_count": null,
      "metadata": {
        "colab": {
          "base_uri": "https://localhost:8080/",
          "height": 263
        },
        "id": "U7vx8DUX1aiG",
        "outputId": "a8f7a066-ca52-48c0-af8e-467fe11ce1ad"
      },
      "outputs": [],
      "source": [
        "context = InteractiveContext()\n",
        "\n",
        "#create and run exampleGen component\n",
        "example_gen = CsvExampleGen(input_base=_data_root )\n",
        "context.run(example_gen)\n",
        "\n",
        "#create and run statisticsGen component\n",
        "statistics_gen = tfx.components.StatisticsGen(\n",
        "    examples=example_gen.outputs['examples'])\n",
        "context.run(statistics_gen)"
      ]
    },
    {
      "cell_type": "code",
      "execution_count": null,
      "metadata": {
        "colab": {
          "base_uri": "https://localhost:8080/",
          "height": 196
        },
        "id": "LagXQsbQ1qjP",
        "outputId": "4374d559-1d63-4016-cdd6-8d101df6008f"
      },
      "outputs": [],
      "source": [
        "#feature selection component\n",
        "\n",
        "feature_selector = FeatureSelection(orig_examples = example_gen.outputs['examples'],\n",
        "                                   module_file='example.modules.penguins_module')\n",
        "context.run(feature_selector)\n",
        "\n"
      ]
    },
    {
      "cell_type": "code",
      "execution_count": null,
      "metadata": {
        "colab": {
          "base_uri": "https://localhost:8080/",
          "height": 35
        },
        "id": "_d-gHtuZ2BkB",
        "outputId": "befea7e8-3169-440b-c4be-154e67df164a"
      },
      "outputs": [],
      "source": [
        "# Display Selected Features\n",
        "context.show(feature_selector.outputs['feature_selection']._artifacts[0].selected_features)"
      ]
    },
    {
      "cell_type": "markdown",
      "metadata": {
        "id": "SpWj6yP22D_H"
      },
      "source": [
        "# Pima Indians Diabetes example using TFX Feature Selection Component\n",
        "\n",
        "### Download example data\n",
        "We download the example dataset for use in our TFX pipeline.\n",
        "\n",
        "The dataset we're using is the [Pima Indians Diabetes dataset](https://www.kaggle.com/uciml/pima-indians-diabetes-database) \n",
        "\n",
        "There are eight features in this dataset:\n",
        "\n",
        "- Pregnancies\n",
        "- Glucose\n",
        "- BloodPressure\n",
        "- SkinThickness\n",
        "- Insulin\n",
        "- BMI\n",
        "- DiabetesPedigreeFunction\n",
        "- Age\n",
        "\n",
        "\n",
        "The dataset corresponds to classification tasks on which you need to predict if a person has `diabetes` based on the 8 features above"
      ]
    },
    {
      "cell_type": "code",
      "execution_count": null,
      "metadata": {
        "colab": {
          "base_uri": "https://localhost:8080/"
        },
        "id": "dFdbIvRB2NUz",
        "outputId": "215f5d60-ba1c-49c3-f0a1-0c7d24b769f6"
      },
      "outputs": [],
      "source": [
        "_data_root = tempfile.mkdtemp(prefix='tfx-data')\n",
        "DATA_PATH = 'https://raw.githubusercontent.com/npradaschnor/Pima-Indians-Diabetes-Dataset/master/diabetes.csv'\n",
        "_data_filepath = os.path.join(_data_root, \"data.csv\")\n",
        "urllib.request.urlretrieve(DATA_PATH, _data_filepath)"
      ]
    },
    {
      "cell_type": "markdown",
      "metadata": {
        "id": "m33pi-3X26Y5"
      },
      "source": [
        "**Run TFX components**\n",
        "\n",
        "In the cells that follow, we create TFX components one-by-one and generates `example` using `exampleGen` component."
      ]
    },
    {
      "cell_type": "code",
      "execution_count": null,
      "metadata": {
        "colab": {
          "base_uri": "https://localhost:8080/",
          "height": 263
        },
        "id": "QPcdgT0h2_UP",
        "outputId": "beaeb2db-7492-497e-da57-f42ef75be1ee"
      },
      "outputs": [],
      "source": [
        "context = InteractiveContext()\n",
        "\n",
        "#create and run exampleGen component\n",
        "example_gen = CsvExampleGen(input_base=_data_root )\n",
        "context.run(example_gen)\n",
        "\n",
        "#create and run statisticsGen component\n",
        "statistics_gen = tfx.components.StatisticsGen(\n",
        "    examples=example_gen.outputs['examples'])\n",
        "context.run(statistics_gen)"
      ]
    },
    {
      "cell_type": "code",
      "execution_count": null,
      "metadata": {
        "colab": {
          "base_uri": "https://localhost:8080/",
          "height": 196
        },
        "id": "DJWpuXSj3EPY",
        "outputId": "4f2ca6bf-3b3c-47b1-dd14-66d5e7363721"
      },
      "outputs": [],
      "source": [
        "#feature selection component\n",
        "feature_selector = FeatureSelection(orig_examples = example_gen.outputs['examples'],\n",
        "                                   module_file='example.modules.pima_indians_module_file')\n",
        "context.run(feature_selector)\n"
      ]
    },
    {
      "cell_type": "code",
      "execution_count": null,
      "metadata": {
        "colab": {
          "base_uri": "https://localhost:8080/",
          "height": 35
        },
        "id": "Pb67s2mD3M-U",
        "outputId": "46d34773-d9d7-4f40-b507-1425d33f8070"
      },
      "outputs": [],
      "source": [
        "# Display Selected Features\n",
        "context.show(feature_selector.outputs['feature_selection']._artifacts[0].selected_features)"
      ]
    },
    {
      "cell_type": "markdown",
      "metadata": {
        "id": "xNRTzPmY3UCY"
      },
      "source": [
        "# Iris example using TFX Feature Selection Component\n",
        "\n",
        "### Download example data\n",
        "We download the example dataset for use in our TFX pipeline.\n",
        "\n",
        "The dataset we're using is the [Iris dataset](https://www.kaggle.com/uciml/iris).\n",
        "\n",
        "There are four numeric features in this dataset:\n",
        "\n",
        "- sepal.length\n",
        "- sepal.width\n",
        "- petal.length\n",
        "- petal.width\n",
        "\n",
        "We will build a module that selects 2 features to be eliminated from the dataset in other to improve the performance of the mode in predicting the `species` of iris plants."
      ]
    },
    {
      "cell_type": "code",
      "execution_count": null,
      "metadata": {
        "colab": {
          "base_uri": "https://localhost:8080/"
        },
        "id": "2bmWZf4A3Tvh",
        "outputId": "79869fcc-296a-4f7f-95c6-6bdd645f5738"
      },
      "outputs": [],
      "source": [
        "_data_root = tempfile.mkdtemp(prefix='tfx-data')\n",
        "DATA_PATH = 'https://raw.githubusercontent.com/mwaskom/seaborn-data/master/iris.csv'\n",
        "             \n",
        "_data_filepath = os.path.join(_data_root, \"data.csv\")\n",
        "urllib.request.urlretrieve(DATA_PATH, _data_filepath)"
      ]
    },
    {
      "cell_type": "markdown",
      "metadata": {
        "id": "BwJ7bZFq3cl1"
      },
      "source": [
        "**Run TFX components **\n",
        "\n",
        "\n",
        "In the cells that follow, we create TFX components one-by-one and generates `example` using `exampleGen` component.\n",
        "\n",
        "\n",
        "\n"
      ]
    },
    {
      "cell_type": "code",
      "execution_count": null,
      "metadata": {
        "colab": {
          "base_uri": "https://localhost:8080/",
          "height": 263
        },
        "id": "ETP1byem3eb6",
        "outputId": "8c407732-f33e-4098-fe4a-2ef465041560"
      },
      "outputs": [],
      "source": [
        "context = InteractiveContext()\n",
        "\n",
        "#create and run exampleGen component\n",
        "example_gen = CsvExampleGen(input_base=_data_root )\n",
        "context.run(example_gen)\n",
        "\n",
        "#create and run statisticsGen component\n",
        "statistics_gen = tfx.components.StatisticsGen(\n",
        "    examples=example_gen.outputs['examples'])\n",
        "context.run(statistics_gen)"
      ]
    },
    {
      "cell_type": "code",
      "execution_count": null,
      "metadata": {
        "id": "3VobpIpM3ny9"
      },
      "outputs": [],
      "source": [
        "#feature selection component\n",
        "feature_selector = FeatureSelection(orig_examples = example_gen.outputs['examples'],\n",
        "                                   module_file=\"example.modules.iris_module_file\")\n",
        "context.run(feature_selector)\n"
      ]
    },
    {
      "cell_type": "code",
      "execution_count": null,
      "metadata": {
        "colab": {
          "base_uri": "https://localhost:8080/",
          "height": 35
        },
        "id": "3Z3r4AcZ3szL",
        "outputId": "f54cb899-ebda-4690-8bfa-459fc213cd25"
      },
      "outputs": [],
      "source": [
        "# Display Selected Features\n",
        "context.show(feature_selector.outputs['feature_selection']._artifacts[0].selected_features)"
      ]
    }
  ],
  "metadata": {
    "colab": {
      "authorship_tag": "ABX9TyM61qG347mDX8vZ9QpBXddV",
      "include_colab_link": true,
      "name": "Examples.ipynb",
      "provenance": []
    },
    "kernelspec": {
      "display_name": "Python 3",
      "name": "python3"
    },
    "language_info": {
      "name": "python"
    }
  },
  "nbformat": 4,
  "nbformat_minor": 0
}
