{
 "cells": [
  {
   "cell_type": "markdown",
   "metadata": {
    "colab_type": "text",
    "id": "view-in-github",
    "pycharm": {
     "name": "#%% md\n"
    }
   },
   "source": [
    "<a href=\"https://colab.research.google.com/github/deutranium/tfx-addons/blob/main/tfx_addons/feature_selection/example/Iris_example_colab.ipynb\" target=\"_parent\"><img src=\"https://colab.research.google.com/assets/colab-badge.svg\" alt=\"Open In Colab\"/></a>"
   ]
  },
  {
   "cell_type": "markdown",
   "metadata": {
    "id": "_SCnosIDVCWk",
    "pycharm": {
     "name": "#%% md\n"
    }
   },
   "source": [
    "# TFX Filter  Component\n",
    "\n",
    "You may find the source code for the same [here](https://github.com/tensorflow/tfx-addons/tree/main/tfx_addons/feature_selection)\n",
    "\n",
    "This example demonstrate the use of filter selection component. This project allows the user to use different filter algorithms for performing element selection on datasets artifacts in TFX pipelines\n",
    "\n",
    "Base code taken from: https://github.com/tensorflow/tfx/blob/master/docs/tutorials/tfx/components_keras.ipynb"
   ]
  },
  {
   "cell_type": "markdown",
   "metadata": {
    "id": "pMa_EZTlVj_u",
    "pycharm": {
     "name": "#%% md\n"
    }
   },
   "source": [
    "## Setup\n",
    "### Install TFX\n",
    "_Note: In Google Colab, because of package updates, the first time you run this cell you must restart the runtime (Runtime > Restart runtime ...)._"
   ]
  },
  {
   "cell_type": "code",
   "execution_count": 1,
   "metadata": {
    "colab": {
     "base_uri": "https://localhost:8080/"
    },
    "id": "9aZZ0LjXVve3",
    "outputId": "84dcbcae-092f-4d84-8d06-5d95fe18b85c",
    "pycharm": {
     "name": "#%%\n"
    }
   },
   "outputs": [
    {
     "name": "stdout",
     "output_type": "stream",
     "text": [
      "Requirement already satisfied: tfx in /home/x000ff4/anaconda3/envs/tfx-addons/lib/python3.9/site-packages (1.12.0)\r\n",
      "Requirement already satisfied: pyarrow<7,>=6 in /home/x000ff4/anaconda3/envs/tfx-addons/lib/python3.9/site-packages (from tfx) (6.0.1)\r\n",
      "Requirement already satisfied: tensorflow-model-analysis<0.44.0,>=0.43.0 in /home/x000ff4/anaconda3/envs/tfx-addons/lib/python3.9/site-packages (from tfx) (0.43.0)\r\n",
      "Requirement already satisfied: packaging<21,>=20 in /home/x000ff4/anaconda3/envs/tfx-addons/lib/python3.9/site-packages (from tfx) (20.9)\r\n",
      "Requirement already satisfied: protobuf<4,>=3.13 in /home/x000ff4/anaconda3/envs/tfx-addons/lib/python3.9/site-packages (from tfx) (3.19.6)\r\n",
      "Requirement already satisfied: jinja2<4,>=2.7.3 in /home/x000ff4/anaconda3/envs/tfx-addons/lib/python3.9/site-packages (from tfx) (3.1.2)\r\n",
      "Requirement already satisfied: pyyaml<6,>=3.12 in /home/x000ff4/anaconda3/envs/tfx-addons/lib/python3.9/site-packages (from tfx) (5.4.1)\r\n",
      "Requirement already satisfied: tfx-bsl<1.13.0,>=1.12.0 in /home/x000ff4/anaconda3/envs/tfx-addons/lib/python3.9/site-packages (from tfx) (1.12.0)\r\n",
      "Requirement already satisfied: kubernetes<13,>=10.0.1 in /home/x000ff4/anaconda3/envs/tfx-addons/lib/python3.9/site-packages (from tfx) (12.0.1)\r\n",
      "Requirement already satisfied: tensorflow-hub<0.13,>=0.9.0 in /home/x000ff4/anaconda3/envs/tfx-addons/lib/python3.9/site-packages (from tfx) (0.12.0)\r\n",
      "Requirement already satisfied: tensorflow-serving-api!=2.0.*,!=2.1.*,!=2.2.*,!=2.3.*,!=2.4.*,!=2.5.*,!=2.6.*,!=2.7.*,!=2.8.*,<3,>=1.15 in /home/x000ff4/anaconda3/envs/tfx-addons/lib/python3.9/site-packages (from tfx) (2.11.0)\r\n",
      "Requirement already satisfied: click<8,>=7 in /home/x000ff4/anaconda3/envs/tfx-addons/lib/python3.9/site-packages (from tfx) (7.1.2)\r\n",
      "Requirement already satisfied: ml-pipelines-sdk==1.12.0 in /home/x000ff4/anaconda3/envs/tfx-addons/lib/python3.9/site-packages (from tfx) (1.12.0)\r\n",
      "Requirement already satisfied: google-api-python-client<2,>=1.8 in /home/x000ff4/anaconda3/envs/tfx-addons/lib/python3.9/site-packages (from tfx) (1.12.11)\r\n",
      "Requirement already satisfied: tensorflow<2.12,>=2.11.0 in /home/x000ff4/anaconda3/envs/tfx-addons/lib/python3.9/site-packages (from tfx) (2.11.0)\r\n",
      "Requirement already satisfied: tensorflow-transform<1.13.0,>=1.12.0 in /home/x000ff4/anaconda3/envs/tfx-addons/lib/python3.9/site-packages (from tfx) (1.12.0)\r\n",
      "Requirement already satisfied: attrs<22,>=19.3.0 in /home/x000ff4/anaconda3/envs/tfx-addons/lib/python3.9/site-packages (from tfx) (21.4.0)\r\n",
      "Requirement already satisfied: grpcio<2,>=1.28.1 in /home/x000ff4/anaconda3/envs/tfx-addons/lib/python3.9/site-packages (from tfx) (1.51.1)\r\n",
      "Requirement already satisfied: typing-extensions<5,>=3.10.0.2 in /home/x000ff4/anaconda3/envs/tfx-addons/lib/python3.9/site-packages (from tfx) (4.4.0)\r\n",
      "Requirement already satisfied: portpicker<2,>=1.3.1 in /home/x000ff4/anaconda3/envs/tfx-addons/lib/python3.9/site-packages (from tfx) (1.5.2)\r\n",
      "Requirement already satisfied: numpy<2,>=1.16 in /home/x000ff4/anaconda3/envs/tfx-addons/lib/python3.9/site-packages (from tfx) (1.22.4)\r\n",
      "Requirement already satisfied: google-cloud-aiplatform<1.18,>=1.6.2 in /home/x000ff4/anaconda3/envs/tfx-addons/lib/python3.9/site-packages (from tfx) (1.17.1)\r\n",
      "Requirement already satisfied: docker<5,>=4.1 in /home/x000ff4/anaconda3/envs/tfx-addons/lib/python3.9/site-packages (from tfx) (4.4.4)\r\n",
      "Requirement already satisfied: absl-py<2.0.0,>=0.9 in /home/x000ff4/anaconda3/envs/tfx-addons/lib/python3.9/site-packages (from tfx) (1.3.0)\r\n",
      "Requirement already satisfied: google-api-core<1.33 in /home/x000ff4/anaconda3/envs/tfx-addons/lib/python3.9/site-packages (from tfx) (1.32.0)\r\n",
      "Requirement already satisfied: apache-beam[gcp]<3,>=2.40 in /home/x000ff4/anaconda3/envs/tfx-addons/lib/python3.9/site-packages (from tfx) (2.44.0)\r\n",
      "Requirement already satisfied: keras-tuner<2,>=1.0.4 in /home/x000ff4/anaconda3/envs/tfx-addons/lib/python3.9/site-packages (from tfx) (1.1.3)\r\n",
      "Requirement already satisfied: tensorflow-data-validation<1.13.0,>=1.12.0 in /home/x000ff4/anaconda3/envs/tfx-addons/lib/python3.9/site-packages (from tfx) (1.12.0)\r\n",
      "Requirement already satisfied: google-cloud-bigquery<3,>=2.26.0 in /home/x000ff4/anaconda3/envs/tfx-addons/lib/python3.9/site-packages (from tfx) (2.34.4)\r\n",
      "Requirement already satisfied: google-apitools<1,>=0.5 in /home/x000ff4/anaconda3/envs/tfx-addons/lib/python3.9/site-packages (from tfx) (0.5.31)\r\n",
      "Requirement already satisfied: ml-metadata<1.13.0,>=1.12.0 in /home/x000ff4/anaconda3/envs/tfx-addons/lib/python3.9/site-packages (from tfx) (1.12.0)\r\n",
      "Requirement already satisfied: proto-plus<2,>=1.7.1 in /home/x000ff4/anaconda3/envs/tfx-addons/lib/python3.9/site-packages (from apache-beam[gcp]<3,>=2.40->tfx) (1.22.2)\r\n",
      "Requirement already satisfied: pydot<2,>=1.2.0 in /home/x000ff4/anaconda3/envs/tfx-addons/lib/python3.9/site-packages (from apache-beam[gcp]<3,>=2.40->tfx) (1.4.2)\r\n",
      "Requirement already satisfied: pytz>=2018.3 in /home/x000ff4/anaconda3/envs/tfx-addons/lib/python3.9/site-packages (from apache-beam[gcp]<3,>=2.40->tfx) (2022.7)\r\n",
      "Requirement already satisfied: zstandard<1,>=0.18.0 in /home/x000ff4/anaconda3/envs/tfx-addons/lib/python3.9/site-packages (from apache-beam[gcp]<3,>=2.40->tfx) (0.19.0)\r\n",
      "Requirement already satisfied: fasteners<1.0,>=0.3 in /home/x000ff4/anaconda3/envs/tfx-addons/lib/python3.9/site-packages (from apache-beam[gcp]<3,>=2.40->tfx) (0.18)\r\n",
      "Requirement already satisfied: regex>=2020.6.8 in /home/x000ff4/anaconda3/envs/tfx-addons/lib/python3.9/site-packages (from apache-beam[gcp]<3,>=2.40->tfx) (2022.10.31)\r\n",
      "Requirement already satisfied: requests<3.0.0,>=2.24.0 in /home/x000ff4/anaconda3/envs/tfx-addons/lib/python3.9/site-packages (from apache-beam[gcp]<3,>=2.40->tfx) (2.28.1)\r\n",
      "Requirement already satisfied: cloudpickle~=2.2.0 in /home/x000ff4/anaconda3/envs/tfx-addons/lib/python3.9/site-packages (from apache-beam[gcp]<3,>=2.40->tfx) (2.2.0)\r\n",
      "Requirement already satisfied: fastavro<2,>=0.23.6 in /home/x000ff4/anaconda3/envs/tfx-addons/lib/python3.9/site-packages (from apache-beam[gcp]<3,>=2.40->tfx) (1.7.0)\r\n",
      "Requirement already satisfied: crcmod<2.0,>=1.7 in /home/x000ff4/anaconda3/envs/tfx-addons/lib/python3.9/site-packages (from apache-beam[gcp]<3,>=2.40->tfx) (1.7)\r\n",
      "Requirement already satisfied: orjson<4.0 in /home/x000ff4/anaconda3/envs/tfx-addons/lib/python3.9/site-packages (from apache-beam[gcp]<3,>=2.40->tfx) (3.8.5)\r\n",
      "Requirement already satisfied: pymongo<4.0.0,>=3.8.0 in /home/x000ff4/anaconda3/envs/tfx-addons/lib/python3.9/site-packages (from apache-beam[gcp]<3,>=2.40->tfx) (3.13.0)\r\n",
      "Requirement already satisfied: python-dateutil<3,>=2.8.0 in /home/x000ff4/anaconda3/envs/tfx-addons/lib/python3.9/site-packages (from apache-beam[gcp]<3,>=2.40->tfx) (2.8.2)\r\n",
      "Requirement already satisfied: hdfs<3.0.0,>=2.1.0 in /home/x000ff4/anaconda3/envs/tfx-addons/lib/python3.9/site-packages (from apache-beam[gcp]<3,>=2.40->tfx) (2.7.0)\r\n",
      "Requirement already satisfied: httplib2<0.21.0,>=0.8 in /home/x000ff4/anaconda3/envs/tfx-addons/lib/python3.9/site-packages (from apache-beam[gcp]<3,>=2.40->tfx) (0.20.4)\r\n",
      "Requirement already satisfied: objsize<0.7.0,>=0.6.1 in /home/x000ff4/anaconda3/envs/tfx-addons/lib/python3.9/site-packages (from apache-beam[gcp]<3,>=2.40->tfx) (0.6.1)\r\n",
      "Requirement already satisfied: dill<0.3.2,>=0.3.1.1 in /home/x000ff4/anaconda3/envs/tfx-addons/lib/python3.9/site-packages (from apache-beam[gcp]<3,>=2.40->tfx) (0.3.1.1)\r\n",
      "Requirement already satisfied: google-cloud-recommendations-ai<0.8.0,>=0.1.0 in /home/x000ff4/anaconda3/envs/tfx-addons/lib/python3.9/site-packages (from apache-beam[gcp]<3,>=2.40->tfx) (0.7.1)\r\n",
      "Requirement already satisfied: google-cloud-vision<4,>=2 in /home/x000ff4/anaconda3/envs/tfx-addons/lib/python3.9/site-packages (from apache-beam[gcp]<3,>=2.40->tfx) (3.1.4)\r\n",
      "Requirement already satisfied: google-cloud-videointelligence<2,>=1.8.0 in /home/x000ff4/anaconda3/envs/tfx-addons/lib/python3.9/site-packages (from apache-beam[gcp]<3,>=2.40->tfx) (1.16.3)\r\n",
      "Requirement already satisfied: google-cloud-pubsublite<2,>=1.2.0 in /home/x000ff4/anaconda3/envs/tfx-addons/lib/python3.9/site-packages (from apache-beam[gcp]<3,>=2.40->tfx) (1.6.0)\r\n",
      "Requirement already satisfied: google-cloud-bigquery-storage<2.14,>=2.6.3 in /home/x000ff4/anaconda3/envs/tfx-addons/lib/python3.9/site-packages (from apache-beam[gcp]<3,>=2.40->tfx) (2.13.2)\r\n",
      "Requirement already satisfied: cachetools<5,>=3.1.0 in /home/x000ff4/anaconda3/envs/tfx-addons/lib/python3.9/site-packages (from apache-beam[gcp]<3,>=2.40->tfx) (4.2.2)\r\n",
      "Requirement already satisfied: google-auth<3,>=1.18.0 in /home/x000ff4/anaconda3/envs/tfx-addons/lib/python3.9/site-packages (from apache-beam[gcp]<3,>=2.40->tfx) (1.35.0)\r\n",
      "Requirement already satisfied: google-cloud-language<2,>=1.3.0 in /home/x000ff4/anaconda3/envs/tfx-addons/lib/python3.9/site-packages (from apache-beam[gcp]<3,>=2.40->tfx) (1.3.2)\r\n",
      "Requirement already satisfied: google-cloud-pubsub<3,>=2.1.0 in /home/x000ff4/anaconda3/envs/tfx-addons/lib/python3.9/site-packages (from apache-beam[gcp]<3,>=2.40->tfx) (2.13.11)\r\n",
      "Requirement already satisfied: google-cloud-dlp<4,>=3.0.0 in /home/x000ff4/anaconda3/envs/tfx-addons/lib/python3.9/site-packages (from apache-beam[gcp]<3,>=2.40->tfx) (3.9.2)\r\n",
      "Requirement already satisfied: google-auth-httplib2<0.2.0,>=0.1.0 in /home/x000ff4/anaconda3/envs/tfx-addons/lib/python3.9/site-packages (from apache-beam[gcp]<3,>=2.40->tfx) (0.1.0)\r\n",
      "Requirement already satisfied: google-cloud-bigtable<2,>=0.31.1 in /home/x000ff4/anaconda3/envs/tfx-addons/lib/python3.9/site-packages (from apache-beam[gcp]<3,>=2.40->tfx) (1.7.3)\r\n",
      "Requirement already satisfied: google-cloud-spanner<4,>=3.0.0 in /home/x000ff4/anaconda3/envs/tfx-addons/lib/python3.9/site-packages (from apache-beam[gcp]<3,>=2.40->tfx) (3.26.0)\r\n",
      "Requirement already satisfied: google-cloud-core<3,>=0.28.1 in /home/x000ff4/anaconda3/envs/tfx-addons/lib/python3.9/site-packages (from apache-beam[gcp]<3,>=2.40->tfx) (2.3.2)\r\n",
      "Requirement already satisfied: google-cloud-datastore<2,>=1.8.0 in /home/x000ff4/anaconda3/envs/tfx-addons/lib/python3.9/site-packages (from apache-beam[gcp]<3,>=2.40->tfx) (1.15.5)\r\n",
      "Requirement already satisfied: six>=1.4.0 in /home/x000ff4/anaconda3/envs/tfx-addons/lib/python3.9/site-packages (from docker<5,>=4.1->tfx) (1.16.0)\r\n",
      "Requirement already satisfied: websocket-client>=0.32.0 in /home/x000ff4/anaconda3/envs/tfx-addons/lib/python3.9/site-packages (from docker<5,>=4.1->tfx) (1.4.2)\r\n",
      "Requirement already satisfied: setuptools>=40.3.0 in /home/x000ff4/anaconda3/envs/tfx-addons/lib/python3.9/site-packages (from google-api-core<1.33->tfx) (65.6.3)\r\n",
      "Requirement already satisfied: googleapis-common-protos<2.0dev,>=1.6.0 in /home/x000ff4/anaconda3/envs/tfx-addons/lib/python3.9/site-packages (from google-api-core<1.33->tfx) (1.58.0)\r\n",
      "Requirement already satisfied: uritemplate<4dev,>=3.0.0 in /home/x000ff4/anaconda3/envs/tfx-addons/lib/python3.9/site-packages (from google-api-python-client<2,>=1.8->tfx) (3.0.1)\r\n",
      "Requirement already satisfied: oauth2client>=1.4.12 in /home/x000ff4/anaconda3/envs/tfx-addons/lib/python3.9/site-packages (from google-apitools<1,>=0.5->tfx) (4.1.3)\r\n",
      "Requirement already satisfied: google-cloud-resource-manager<3.0.0dev,>=1.3.3 in /home/x000ff4/anaconda3/envs/tfx-addons/lib/python3.9/site-packages (from google-cloud-aiplatform<1.18,>=1.6.2->tfx) (1.6.3)\r\n",
      "Requirement already satisfied: google-cloud-storage<3.0.0dev,>=1.32.0 in /home/x000ff4/anaconda3/envs/tfx-addons/lib/python3.9/site-packages (from google-cloud-aiplatform<1.18,>=1.6.2->tfx) (2.7.0)\r\n",
      "Requirement already satisfied: google-resumable-media<3.0dev,>=0.6.0 in /home/x000ff4/anaconda3/envs/tfx-addons/lib/python3.9/site-packages (from google-cloud-bigquery<3,>=2.26.0->tfx) (2.4.0)\r\n",
      "Requirement already satisfied: MarkupSafe>=2.0 in /home/x000ff4/anaconda3/envs/tfx-addons/lib/python3.9/site-packages (from jinja2<4,>=2.7.3->tfx) (2.1.1)\r\n",
      "Requirement already satisfied: kt-legacy in /home/x000ff4/anaconda3/envs/tfx-addons/lib/python3.9/site-packages (from keras-tuner<2,>=1.0.4->tfx) (1.0.4)\r\n",
      "Requirement already satisfied: ipython in /home/x000ff4/anaconda3/envs/tfx-addons/lib/python3.9/site-packages (from keras-tuner<2,>=1.0.4->tfx) (7.34.0)\r\n",
      "Requirement already satisfied: tensorboard in /home/x000ff4/anaconda3/envs/tfx-addons/lib/python3.9/site-packages (from keras-tuner<2,>=1.0.4->tfx) (2.11.2)\r\n",
      "Requirement already satisfied: certifi>=14.05.14 in /home/x000ff4/anaconda3/envs/tfx-addons/lib/python3.9/site-packages (from kubernetes<13,>=10.0.1->tfx) (2022.12.7)\r\n",
      "Requirement already satisfied: urllib3>=1.24.2 in /home/x000ff4/anaconda3/envs/tfx-addons/lib/python3.9/site-packages (from kubernetes<13,>=10.0.1->tfx) (1.26.13)\r\n",
      "Requirement already satisfied: requests-oauthlib in /home/x000ff4/anaconda3/envs/tfx-addons/lib/python3.9/site-packages (from kubernetes<13,>=10.0.1->tfx) (1.3.0)\r\n",
      "Requirement already satisfied: pyparsing>=2.0.2 in /home/x000ff4/anaconda3/envs/tfx-addons/lib/python3.9/site-packages (from packaging<21,>=20->tfx) (3.0.9)\r\n",
      "Requirement already satisfied: psutil in /home/x000ff4/anaconda3/envs/tfx-addons/lib/python3.9/site-packages (from portpicker<2,>=1.3.1->tfx) (5.9.4)\r\n",
      "Requirement already satisfied: astunparse>=1.6.0 in /home/x000ff4/anaconda3/envs/tfx-addons/lib/python3.9/site-packages (from tensorflow<2.12,>=2.11.0->tfx) (1.6.3)\r\n",
      "Requirement already satisfied: gast<=0.4.0,>=0.2.1 in /home/x000ff4/anaconda3/envs/tfx-addons/lib/python3.9/site-packages (from tensorflow<2.12,>=2.11.0->tfx) (0.4.0)\r\n",
      "Requirement already satisfied: flatbuffers>=2.0 in /home/x000ff4/anaconda3/envs/tfx-addons/lib/python3.9/site-packages (from tensorflow<2.12,>=2.11.0->tfx) (2.0)\r\n",
      "Requirement already satisfied: tensorflow-io-gcs-filesystem>=0.23.1 in /home/x000ff4/anaconda3/envs/tfx-addons/lib/python3.9/site-packages (from tensorflow<2.12,>=2.11.0->tfx) (0.29.0)\r\n",
      "Requirement already satisfied: keras<2.12,>=2.11.0 in /home/x000ff4/anaconda3/envs/tfx-addons/lib/python3.9/site-packages (from tensorflow<2.12,>=2.11.0->tfx) (2.11.0)\r\n",
      "Requirement already satisfied: termcolor>=1.1.0 in /home/x000ff4/anaconda3/envs/tfx-addons/lib/python3.9/site-packages (from tensorflow<2.12,>=2.11.0->tfx) (2.1.0)\r\n",
      "Requirement already satisfied: h5py>=2.9.0 in /home/x000ff4/anaconda3/envs/tfx-addons/lib/python3.9/site-packages (from tensorflow<2.12,>=2.11.0->tfx) (3.7.0)\r\n",
      "Requirement already satisfied: libclang>=13.0.0 in /home/x000ff4/anaconda3/envs/tfx-addons/lib/python3.9/site-packages (from tensorflow<2.12,>=2.11.0->tfx) (15.0.6.1)\r\n",
      "Requirement already satisfied: opt-einsum>=2.3.2 in /home/x000ff4/anaconda3/envs/tfx-addons/lib/python3.9/site-packages (from tensorflow<2.12,>=2.11.0->tfx) (3.3.0)\r\n",
      "Requirement already satisfied: tensorflow-estimator<2.12,>=2.11.0 in /home/x000ff4/anaconda3/envs/tfx-addons/lib/python3.9/site-packages (from tensorflow<2.12,>=2.11.0->tfx) (2.11.0)\r\n",
      "Requirement already satisfied: google-pasta>=0.1.1 in /home/x000ff4/anaconda3/envs/tfx-addons/lib/python3.9/site-packages (from tensorflow<2.12,>=2.11.0->tfx) (0.2.0)\r\n",
      "Requirement already satisfied: wrapt>=1.11.0 in /home/x000ff4/anaconda3/envs/tfx-addons/lib/python3.9/site-packages (from tensorflow<2.12,>=2.11.0->tfx) (1.14.1)\r\n",
      "Requirement already satisfied: joblib>=1.2.0 in /home/x000ff4/anaconda3/envs/tfx-addons/lib/python3.9/site-packages (from tensorflow-data-validation<1.13.0,>=1.12.0->tfx) (1.2.0)\r\n",
      "Requirement already satisfied: tensorflow-metadata<1.13,>=1.12.0 in /home/x000ff4/anaconda3/envs/tfx-addons/lib/python3.9/site-packages (from tensorflow-data-validation<1.13.0,>=1.12.0->tfx) (1.12.0)\r\n",
      "Requirement already satisfied: pandas<2,>=1.0 in /home/x000ff4/anaconda3/envs/tfx-addons/lib/python3.9/site-packages (from tensorflow-data-validation<1.13.0,>=1.12.0->tfx) (1.5.2)\r\n",
      "Requirement already satisfied: pyfarmhash<0.4,>=0.2 in /home/x000ff4/anaconda3/envs/tfx-addons/lib/python3.9/site-packages (from tensorflow-data-validation<1.13.0,>=1.12.0->tfx) (0.3.2)\r\n",
      "Requirement already satisfied: ipywidgets<8,>=7 in /home/x000ff4/anaconda3/envs/tfx-addons/lib/python3.9/site-packages (from tensorflow-model-analysis<0.44.0,>=0.43.0->tfx) (7.7.2)\r\n",
      "Requirement already satisfied: scipy<2,>=1.4.1 in /home/x000ff4/anaconda3/envs/tfx-addons/lib/python3.9/site-packages (from tensorflow-model-analysis<0.44.0,>=0.43.0->tfx) (1.9.3)\r\n",
      "Requirement already satisfied: wheel<1.0,>=0.23.0 in /home/x000ff4/anaconda3/envs/tfx-addons/lib/python3.9/site-packages (from astunparse>=1.6.0->tensorflow<2.12,>=2.11.0->tfx) (0.37.1)\r\n",
      "Requirement already satisfied: rsa<5,>=3.1.4 in /home/x000ff4/anaconda3/envs/tfx-addons/lib/python3.9/site-packages (from google-auth<3,>=1.18.0->apache-beam[gcp]<3,>=2.40->tfx) (4.7.2)\r\n",
      "Requirement already satisfied: pyasn1-modules>=0.2.1 in /home/x000ff4/anaconda3/envs/tfx-addons/lib/python3.9/site-packages (from google-auth<3,>=1.18.0->apache-beam[gcp]<3,>=2.40->tfx) (0.2.8)\r\n",
      "Requirement already satisfied: grpc-google-iam-v1<0.13dev,>=0.12.3 in /home/x000ff4/anaconda3/envs/tfx-addons/lib/python3.9/site-packages (from google-cloud-bigtable<2,>=0.31.1->apache-beam[gcp]<3,>=2.40->tfx) (0.12.6)\r\n",
      "Requirement already satisfied: grpcio-status>=1.16.0 in /home/x000ff4/anaconda3/envs/tfx-addons/lib/python3.9/site-packages (from google-cloud-pubsub<3,>=2.1.0->apache-beam[gcp]<3,>=2.40->tfx) (1.48.2)\r\n",
      "Requirement already satisfied: overrides<7.0.0,>=6.0.1 in /home/x000ff4/anaconda3/envs/tfx-addons/lib/python3.9/site-packages (from google-cloud-pubsublite<2,>=1.2.0->apache-beam[gcp]<3,>=2.40->tfx) (6.5.0)\r\n",
      "Requirement already satisfied: sqlparse>=0.3.0 in /home/x000ff4/anaconda3/envs/tfx-addons/lib/python3.9/site-packages (from google-cloud-spanner<4,>=3.0.0->apache-beam[gcp]<3,>=2.40->tfx) (0.4.3)\r\n",
      "Requirement already satisfied: google-crc32c<2.0dev,>=1.0 in /home/x000ff4/anaconda3/envs/tfx-addons/lib/python3.9/site-packages (from google-resumable-media<3.0dev,>=0.6.0->google-cloud-bigquery<3,>=2.26.0->tfx) (1.5.0)\r\n",
      "Requirement already satisfied: docopt in /home/x000ff4/anaconda3/envs/tfx-addons/lib/python3.9/site-packages (from hdfs<3.0.0,>=2.1.0->apache-beam[gcp]<3,>=2.40->tfx) (0.6.2)\r\n",
      "Requirement already satisfied: backcall in /home/x000ff4/anaconda3/envs/tfx-addons/lib/python3.9/site-packages (from ipython->keras-tuner<2,>=1.0.4->tfx) (0.2.0)\r\n",
      "Requirement already satisfied: prompt-toolkit!=3.0.0,!=3.0.1,<3.1.0,>=2.0.0 in /home/x000ff4/anaconda3/envs/tfx-addons/lib/python3.9/site-packages (from ipython->keras-tuner<2,>=1.0.4->tfx) (3.0.36)\r\n",
      "Requirement already satisfied: jedi>=0.16 in /home/x000ff4/anaconda3/envs/tfx-addons/lib/python3.9/site-packages (from ipython->keras-tuner<2,>=1.0.4->tfx) (0.18.2)\r\n",
      "Requirement already satisfied: traitlets>=4.2 in /home/x000ff4/anaconda3/envs/tfx-addons/lib/python3.9/site-packages (from ipython->keras-tuner<2,>=1.0.4->tfx) (5.8.1)\r\n",
      "Requirement already satisfied: matplotlib-inline in /home/x000ff4/anaconda3/envs/tfx-addons/lib/python3.9/site-packages (from ipython->keras-tuner<2,>=1.0.4->tfx) (0.1.6)\r\n",
      "Requirement already satisfied: pickleshare in /home/x000ff4/anaconda3/envs/tfx-addons/lib/python3.9/site-packages (from ipython->keras-tuner<2,>=1.0.4->tfx) (0.7.5)\r\n",
      "Requirement already satisfied: pygments in /home/x000ff4/anaconda3/envs/tfx-addons/lib/python3.9/site-packages (from ipython->keras-tuner<2,>=1.0.4->tfx) (2.14.0)\r\n",
      "Requirement already satisfied: decorator in /home/x000ff4/anaconda3/envs/tfx-addons/lib/python3.9/site-packages (from ipython->keras-tuner<2,>=1.0.4->tfx) (5.1.1)\r\n",
      "Requirement already satisfied: pexpect>4.3 in /home/x000ff4/anaconda3/envs/tfx-addons/lib/python3.9/site-packages (from ipython->keras-tuner<2,>=1.0.4->tfx) (4.8.0)\r\n",
      "Requirement already satisfied: jupyterlab-widgets<3,>=1.0.0 in /home/x000ff4/anaconda3/envs/tfx-addons/lib/python3.9/site-packages (from ipywidgets<8,>=7->tensorflow-model-analysis<0.44.0,>=0.43.0->tfx) (1.1.1)\r\n",
      "Requirement already satisfied: ipython-genutils~=0.2.0 in /home/x000ff4/anaconda3/envs/tfx-addons/lib/python3.9/site-packages (from ipywidgets<8,>=7->tensorflow-model-analysis<0.44.0,>=0.43.0->tfx) (0.2.0)\r\n",
      "Requirement already satisfied: widgetsnbextension~=3.6.0 in /home/x000ff4/anaconda3/envs/tfx-addons/lib/python3.9/site-packages (from ipywidgets<8,>=7->tensorflow-model-analysis<0.44.0,>=0.43.0->tfx) (3.6.1)\r\n",
      "Requirement already satisfied: ipykernel>=4.5.1 in /home/x000ff4/anaconda3/envs/tfx-addons/lib/python3.9/site-packages (from ipywidgets<8,>=7->tensorflow-model-analysis<0.44.0,>=0.43.0->tfx) (6.20.1)\r\n",
      "Requirement already satisfied: pyasn1>=0.1.7 in /home/x000ff4/anaconda3/envs/tfx-addons/lib/python3.9/site-packages (from oauth2client>=1.4.12->google-apitools<1,>=0.5->tfx) (0.4.8)\r\n",
      "Requirement already satisfied: idna<4,>=2.5 in /home/x000ff4/anaconda3/envs/tfx-addons/lib/python3.9/site-packages (from requests<3.0.0,>=2.24.0->apache-beam[gcp]<3,>=2.40->tfx) (3.4)\r\n",
      "Requirement already satisfied: charset-normalizer<3,>=2 in /home/x000ff4/anaconda3/envs/tfx-addons/lib/python3.9/site-packages (from requests<3.0.0,>=2.24.0->apache-beam[gcp]<3,>=2.40->tfx) (2.0.4)\r\n",
      "Requirement already satisfied: tensorboard-plugin-wit>=1.6.0 in /home/x000ff4/anaconda3/envs/tfx-addons/lib/python3.9/site-packages (from tensorboard->keras-tuner<2,>=1.0.4->tfx) (1.8.1)\r\n",
      "Requirement already satisfied: werkzeug>=1.0.1 in /home/x000ff4/anaconda3/envs/tfx-addons/lib/python3.9/site-packages (from tensorboard->keras-tuner<2,>=1.0.4->tfx) (2.2.2)\r\n",
      "Requirement already satisfied: markdown>=2.6.8 in /home/x000ff4/anaconda3/envs/tfx-addons/lib/python3.9/site-packages (from tensorboard->keras-tuner<2,>=1.0.4->tfx) (3.4.1)\r\n",
      "Requirement already satisfied: tensorboard-data-server<0.7.0,>=0.6.0 in /home/x000ff4/anaconda3/envs/tfx-addons/lib/python3.9/site-packages (from tensorboard->keras-tuner<2,>=1.0.4->tfx) (0.6.1)\r\n",
      "Requirement already satisfied: google-auth-oauthlib<0.5,>=0.4.1 in /home/x000ff4/anaconda3/envs/tfx-addons/lib/python3.9/site-packages (from tensorboard->keras-tuner<2,>=1.0.4->tfx) (0.4.4)\r\n",
      "Requirement already satisfied: oauthlib>=3.0.0 in /home/x000ff4/anaconda3/envs/tfx-addons/lib/python3.9/site-packages (from requests-oauthlib->kubernetes<13,>=10.0.1->tfx) (3.2.1)\r\n",
      "Requirement already satisfied: tornado>=6.1 in /home/x000ff4/anaconda3/envs/tfx-addons/lib/python3.9/site-packages (from ipykernel>=4.5.1->ipywidgets<8,>=7->tensorflow-model-analysis<0.44.0,>=0.43.0->tfx) (6.2)\r\n",
      "Requirement already satisfied: jupyter-client>=6.1.12 in /home/x000ff4/anaconda3/envs/tfx-addons/lib/python3.9/site-packages (from ipykernel>=4.5.1->ipywidgets<8,>=7->tensorflow-model-analysis<0.44.0,>=0.43.0->tfx) (7.4.9)\r\n",
      "Requirement already satisfied: nest-asyncio in /home/x000ff4/anaconda3/envs/tfx-addons/lib/python3.9/site-packages (from ipykernel>=4.5.1->ipywidgets<8,>=7->tensorflow-model-analysis<0.44.0,>=0.43.0->tfx) (1.5.6)\r\n",
      "Requirement already satisfied: debugpy>=1.0 in /home/x000ff4/anaconda3/envs/tfx-addons/lib/python3.9/site-packages (from ipykernel>=4.5.1->ipywidgets<8,>=7->tensorflow-model-analysis<0.44.0,>=0.43.0->tfx) (1.6.5)\r\n",
      "Requirement already satisfied: pyzmq>=17 in /home/x000ff4/anaconda3/envs/tfx-addons/lib/python3.9/site-packages (from ipykernel>=4.5.1->ipywidgets<8,>=7->tensorflow-model-analysis<0.44.0,>=0.43.0->tfx) (25.0.0)\r\n",
      "Requirement already satisfied: comm>=0.1.1 in /home/x000ff4/anaconda3/envs/tfx-addons/lib/python3.9/site-packages (from ipykernel>=4.5.1->ipywidgets<8,>=7->tensorflow-model-analysis<0.44.0,>=0.43.0->tfx) (0.1.2)\r\n",
      "Requirement already satisfied: parso<0.9.0,>=0.8.0 in /home/x000ff4/anaconda3/envs/tfx-addons/lib/python3.9/site-packages (from jedi>=0.16->ipython->keras-tuner<2,>=1.0.4->tfx) (0.8.3)\r\n",
      "Requirement already satisfied: importlib-metadata>=4.4 in /home/x000ff4/anaconda3/envs/tfx-addons/lib/python3.9/site-packages (from markdown>=2.6.8->tensorboard->keras-tuner<2,>=1.0.4->tfx) (4.11.3)\r\n",
      "Requirement already satisfied: ptyprocess>=0.5 in /home/x000ff4/anaconda3/envs/tfx-addons/lib/python3.9/site-packages (from pexpect>4.3->ipython->keras-tuner<2,>=1.0.4->tfx) (0.7.0)\r\n",
      "Requirement already satisfied: wcwidth in /home/x000ff4/anaconda3/envs/tfx-addons/lib/python3.9/site-packages (from prompt-toolkit!=3.0.0,!=3.0.1,<3.1.0,>=2.0.0->ipython->keras-tuner<2,>=1.0.4->tfx) (0.2.5)\r\n",
      "Requirement already satisfied: notebook>=4.4.1 in /home/x000ff4/anaconda3/envs/tfx-addons/lib/python3.9/site-packages (from widgetsnbextension~=3.6.0->ipywidgets<8,>=7->tensorflow-model-analysis<0.44.0,>=0.43.0->tfx) (6.5.2)\r\n",
      "Requirement already satisfied: zipp>=0.5 in /home/x000ff4/anaconda3/envs/tfx-addons/lib/python3.9/site-packages (from importlib-metadata>=4.4->markdown>=2.6.8->tensorboard->keras-tuner<2,>=1.0.4->tfx) (3.11.0)\r\n",
      "Requirement already satisfied: entrypoints in /home/x000ff4/anaconda3/envs/tfx-addons/lib/python3.9/site-packages (from jupyter-client>=6.1.12->ipykernel>=4.5.1->ipywidgets<8,>=7->tensorflow-model-analysis<0.44.0,>=0.43.0->tfx) (0.4)\r\n",
      "Requirement already satisfied: jupyter-core>=4.9.2 in /home/x000ff4/anaconda3/envs/tfx-addons/lib/python3.9/site-packages (from jupyter-client>=6.1.12->ipykernel>=4.5.1->ipywidgets<8,>=7->tensorflow-model-analysis<0.44.0,>=0.43.0->tfx) (5.1.3)\r\n",
      "Requirement already satisfied: nbformat in /home/x000ff4/anaconda3/envs/tfx-addons/lib/python3.9/site-packages (from notebook>=4.4.1->widgetsnbextension~=3.6.0->ipywidgets<8,>=7->tensorflow-model-analysis<0.44.0,>=0.43.0->tfx) (5.7.3)\r\n",
      "Requirement already satisfied: nbclassic>=0.4.7 in /home/x000ff4/anaconda3/envs/tfx-addons/lib/python3.9/site-packages (from notebook>=4.4.1->widgetsnbextension~=3.6.0->ipywidgets<8,>=7->tensorflow-model-analysis<0.44.0,>=0.43.0->tfx) (0.4.8)\r\n",
      "Requirement already satisfied: argon2-cffi in /home/x000ff4/anaconda3/envs/tfx-addons/lib/python3.9/site-packages (from notebook>=4.4.1->widgetsnbextension~=3.6.0->ipywidgets<8,>=7->tensorflow-model-analysis<0.44.0,>=0.43.0->tfx) (21.3.0)\r\n",
      "Requirement already satisfied: Send2Trash>=1.8.0 in /home/x000ff4/anaconda3/envs/tfx-addons/lib/python3.9/site-packages (from notebook>=4.4.1->widgetsnbextension~=3.6.0->ipywidgets<8,>=7->tensorflow-model-analysis<0.44.0,>=0.43.0->tfx) (1.8.0)\r\n",
      "Requirement already satisfied: nbconvert>=5 in /home/x000ff4/anaconda3/envs/tfx-addons/lib/python3.9/site-packages (from notebook>=4.4.1->widgetsnbextension~=3.6.0->ipywidgets<8,>=7->tensorflow-model-analysis<0.44.0,>=0.43.0->tfx) (7.2.7)\r\n",
      "Requirement already satisfied: terminado>=0.8.3 in /home/x000ff4/anaconda3/envs/tfx-addons/lib/python3.9/site-packages (from notebook>=4.4.1->widgetsnbextension~=3.6.0->ipywidgets<8,>=7->tensorflow-model-analysis<0.44.0,>=0.43.0->tfx) (0.17.1)\r\n",
      "Requirement already satisfied: prometheus-client in /home/x000ff4/anaconda3/envs/tfx-addons/lib/python3.9/site-packages (from notebook>=4.4.1->widgetsnbextension~=3.6.0->ipywidgets<8,>=7->tensorflow-model-analysis<0.44.0,>=0.43.0->tfx) (0.15.0)\r\n",
      "Requirement already satisfied: platformdirs>=2.5 in /home/x000ff4/anaconda3/envs/tfx-addons/lib/python3.9/site-packages (from jupyter-core>=4.9.2->jupyter-client>=6.1.12->ipykernel>=4.5.1->ipywidgets<8,>=7->tensorflow-model-analysis<0.44.0,>=0.43.0->tfx) (2.6.2)\r\n",
      "Requirement already satisfied: jupyter-server>=1.8 in /home/x000ff4/anaconda3/envs/tfx-addons/lib/python3.9/site-packages (from nbclassic>=0.4.7->notebook>=4.4.1->widgetsnbextension~=3.6.0->ipywidgets<8,>=7->tensorflow-model-analysis<0.44.0,>=0.43.0->tfx) (2.1.0)\r\n",
      "Requirement already satisfied: notebook-shim>=0.1.0 in /home/x000ff4/anaconda3/envs/tfx-addons/lib/python3.9/site-packages (from nbclassic>=0.4.7->notebook>=4.4.1->widgetsnbextension~=3.6.0->ipywidgets<8,>=7->tensorflow-model-analysis<0.44.0,>=0.43.0->tfx) (0.2.2)\r\n",
      "Requirement already satisfied: pandocfilters>=1.4.1 in /home/x000ff4/anaconda3/envs/tfx-addons/lib/python3.9/site-packages (from nbconvert>=5->notebook>=4.4.1->widgetsnbextension~=3.6.0->ipywidgets<8,>=7->tensorflow-model-analysis<0.44.0,>=0.43.0->tfx) (1.5.0)\r\n",
      "Requirement already satisfied: mistune<3,>=2.0.3 in /home/x000ff4/anaconda3/envs/tfx-addons/lib/python3.9/site-packages (from nbconvert>=5->notebook>=4.4.1->widgetsnbextension~=3.6.0->ipywidgets<8,>=7->tensorflow-model-analysis<0.44.0,>=0.43.0->tfx) (2.0.4)\r\n",
      "Requirement already satisfied: defusedxml in /home/x000ff4/anaconda3/envs/tfx-addons/lib/python3.9/site-packages (from nbconvert>=5->notebook>=4.4.1->widgetsnbextension~=3.6.0->ipywidgets<8,>=7->tensorflow-model-analysis<0.44.0,>=0.43.0->tfx) (0.7.1)\r\n",
      "Requirement already satisfied: jupyterlab-pygments in /home/x000ff4/anaconda3/envs/tfx-addons/lib/python3.9/site-packages (from nbconvert>=5->notebook>=4.4.1->widgetsnbextension~=3.6.0->ipywidgets<8,>=7->tensorflow-model-analysis<0.44.0,>=0.43.0->tfx) (0.2.2)\r\n",
      "Requirement already satisfied: nbclient>=0.5.0 in /home/x000ff4/anaconda3/envs/tfx-addons/lib/python3.9/site-packages (from nbconvert>=5->notebook>=4.4.1->widgetsnbextension~=3.6.0->ipywidgets<8,>=7->tensorflow-model-analysis<0.44.0,>=0.43.0->tfx) (0.7.2)\r\n",
      "Requirement already satisfied: tinycss2 in /home/x000ff4/anaconda3/envs/tfx-addons/lib/python3.9/site-packages (from nbconvert>=5->notebook>=4.4.1->widgetsnbextension~=3.6.0->ipywidgets<8,>=7->tensorflow-model-analysis<0.44.0,>=0.43.0->tfx) (1.2.1)\r\n",
      "Requirement already satisfied: beautifulsoup4 in /home/x000ff4/anaconda3/envs/tfx-addons/lib/python3.9/site-packages (from nbconvert>=5->notebook>=4.4.1->widgetsnbextension~=3.6.0->ipywidgets<8,>=7->tensorflow-model-analysis<0.44.0,>=0.43.0->tfx) (4.11.1)\r\n",
      "Requirement already satisfied: bleach in /home/x000ff4/anaconda3/envs/tfx-addons/lib/python3.9/site-packages (from nbconvert>=5->notebook>=4.4.1->widgetsnbextension~=3.6.0->ipywidgets<8,>=7->tensorflow-model-analysis<0.44.0,>=0.43.0->tfx) (5.0.1)\r\n",
      "Requirement already satisfied: fastjsonschema in /home/x000ff4/anaconda3/envs/tfx-addons/lib/python3.9/site-packages (from nbformat->notebook>=4.4.1->widgetsnbextension~=3.6.0->ipywidgets<8,>=7->tensorflow-model-analysis<0.44.0,>=0.43.0->tfx) (2.16.2)\r\n",
      "Requirement already satisfied: jsonschema>=2.6 in /home/x000ff4/anaconda3/envs/tfx-addons/lib/python3.9/site-packages (from nbformat->notebook>=4.4.1->widgetsnbextension~=3.6.0->ipywidgets<8,>=7->tensorflow-model-analysis<0.44.0,>=0.43.0->tfx) (4.17.3)\r\n",
      "Requirement already satisfied: argon2-cffi-bindings in /home/x000ff4/anaconda3/envs/tfx-addons/lib/python3.9/site-packages (from argon2-cffi->notebook>=4.4.1->widgetsnbextension~=3.6.0->ipywidgets<8,>=7->tensorflow-model-analysis<0.44.0,>=0.43.0->tfx) (21.2.0)\r\n",
      "Requirement already satisfied: pyrsistent!=0.17.0,!=0.17.1,!=0.17.2,>=0.14.0 in /home/x000ff4/anaconda3/envs/tfx-addons/lib/python3.9/site-packages (from jsonschema>=2.6->nbformat->notebook>=4.4.1->widgetsnbextension~=3.6.0->ipywidgets<8,>=7->tensorflow-model-analysis<0.44.0,>=0.43.0->tfx) (0.19.3)\r\n",
      "Requirement already satisfied: anyio<4,>=3.1.0 in /home/x000ff4/anaconda3/envs/tfx-addons/lib/python3.9/site-packages (from jupyter-server>=1.8->nbclassic>=0.4.7->notebook>=4.4.1->widgetsnbextension~=3.6.0->ipywidgets<8,>=7->tensorflow-model-analysis<0.44.0,>=0.43.0->tfx) (3.6.2)\r\n",
      "Requirement already satisfied: jupyter-events>=0.4.0 in /home/x000ff4/anaconda3/envs/tfx-addons/lib/python3.9/site-packages (from jupyter-server>=1.8->nbclassic>=0.4.7->notebook>=4.4.1->widgetsnbextension~=3.6.0->ipywidgets<8,>=7->tensorflow-model-analysis<0.44.0,>=0.43.0->tfx) (0.6.3)\r\n",
      "Requirement already satisfied: jupyter-server-terminals in /home/x000ff4/anaconda3/envs/tfx-addons/lib/python3.9/site-packages (from jupyter-server>=1.8->nbclassic>=0.4.7->notebook>=4.4.1->widgetsnbextension~=3.6.0->ipywidgets<8,>=7->tensorflow-model-analysis<0.44.0,>=0.43.0->tfx) (0.4.4)\r\n",
      "Requirement already satisfied: cffi>=1.0.1 in /home/x000ff4/anaconda3/envs/tfx-addons/lib/python3.9/site-packages (from argon2-cffi-bindings->argon2-cffi->notebook>=4.4.1->widgetsnbextension~=3.6.0->ipywidgets<8,>=7->tensorflow-model-analysis<0.44.0,>=0.43.0->tfx) (1.15.1)\r\n",
      "Requirement already satisfied: soupsieve>1.2 in /home/x000ff4/anaconda3/envs/tfx-addons/lib/python3.9/site-packages (from beautifulsoup4->nbconvert>=5->notebook>=4.4.1->widgetsnbextension~=3.6.0->ipywidgets<8,>=7->tensorflow-model-analysis<0.44.0,>=0.43.0->tfx) (2.3.2.post1)\r\n",
      "Requirement already satisfied: webencodings in /home/x000ff4/anaconda3/envs/tfx-addons/lib/python3.9/site-packages (from bleach->nbconvert>=5->notebook>=4.4.1->widgetsnbextension~=3.6.0->ipywidgets<8,>=7->tensorflow-model-analysis<0.44.0,>=0.43.0->tfx) (0.5.1)\r\n",
      "Requirement already satisfied: sniffio>=1.1 in /home/x000ff4/anaconda3/envs/tfx-addons/lib/python3.9/site-packages (from anyio<4,>=3.1.0->jupyter-server>=1.8->nbclassic>=0.4.7->notebook>=4.4.1->widgetsnbextension~=3.6.0->ipywidgets<8,>=7->tensorflow-model-analysis<0.44.0,>=0.43.0->tfx) (1.3.0)\r\n",
      "Requirement already satisfied: pycparser in /home/x000ff4/anaconda3/envs/tfx-addons/lib/python3.9/site-packages (from cffi>=1.0.1->argon2-cffi-bindings->argon2-cffi->notebook>=4.4.1->widgetsnbextension~=3.6.0->ipywidgets<8,>=7->tensorflow-model-analysis<0.44.0,>=0.43.0->tfx) (2.21)\r\n",
      "Requirement already satisfied: python-json-logger>=2.0.4 in /home/x000ff4/anaconda3/envs/tfx-addons/lib/python3.9/site-packages (from jupyter-events>=0.4.0->jupyter-server>=1.8->nbclassic>=0.4.7->notebook>=4.4.1->widgetsnbextension~=3.6.0->ipywidgets<8,>=7->tensorflow-model-analysis<0.44.0,>=0.43.0->tfx) (2.0.4)\r\n",
      "Requirement already satisfied: rfc3986-validator>=0.1.1 in /home/x000ff4/anaconda3/envs/tfx-addons/lib/python3.9/site-packages (from jupyter-events>=0.4.0->jupyter-server>=1.8->nbclassic>=0.4.7->notebook>=4.4.1->widgetsnbextension~=3.6.0->ipywidgets<8,>=7->tensorflow-model-analysis<0.44.0,>=0.43.0->tfx) (0.1.1)\r\n",
      "Requirement already satisfied: rfc3339-validator in /home/x000ff4/anaconda3/envs/tfx-addons/lib/python3.9/site-packages (from jupyter-events>=0.4.0->jupyter-server>=1.8->nbclassic>=0.4.7->notebook>=4.4.1->widgetsnbextension~=3.6.0->ipywidgets<8,>=7->tensorflow-model-analysis<0.44.0,>=0.43.0->tfx) (0.1.4)\r\n",
      "Requirement already satisfied: uri-template in /home/x000ff4/anaconda3/envs/tfx-addons/lib/python3.9/site-packages (from jsonschema>=2.6->nbformat->notebook>=4.4.1->widgetsnbextension~=3.6.0->ipywidgets<8,>=7->tensorflow-model-analysis<0.44.0,>=0.43.0->tfx) (1.2.0)\r\n",
      "Requirement already satisfied: webcolors>=1.11 in /home/x000ff4/anaconda3/envs/tfx-addons/lib/python3.9/site-packages (from jsonschema>=2.6->nbformat->notebook>=4.4.1->widgetsnbextension~=3.6.0->ipywidgets<8,>=7->tensorflow-model-analysis<0.44.0,>=0.43.0->tfx) (1.12)\r\n",
      "Requirement already satisfied: isoduration in /home/x000ff4/anaconda3/envs/tfx-addons/lib/python3.9/site-packages (from jsonschema>=2.6->nbformat->notebook>=4.4.1->widgetsnbextension~=3.6.0->ipywidgets<8,>=7->tensorflow-model-analysis<0.44.0,>=0.43.0->tfx) (20.11.0)\r\n",
      "Requirement already satisfied: jsonpointer>1.13 in /home/x000ff4/anaconda3/envs/tfx-addons/lib/python3.9/site-packages (from jsonschema>=2.6->nbformat->notebook>=4.4.1->widgetsnbextension~=3.6.0->ipywidgets<8,>=7->tensorflow-model-analysis<0.44.0,>=0.43.0->tfx) (2.3)\r\n",
      "Requirement already satisfied: fqdn in /home/x000ff4/anaconda3/envs/tfx-addons/lib/python3.9/site-packages (from jsonschema>=2.6->nbformat->notebook>=4.4.1->widgetsnbextension~=3.6.0->ipywidgets<8,>=7->tensorflow-model-analysis<0.44.0,>=0.43.0->tfx) (1.5.1)\r\n",
      "Requirement already satisfied: arrow>=0.15.0 in /home/x000ff4/anaconda3/envs/tfx-addons/lib/python3.9/site-packages (from isoduration->jsonschema>=2.6->nbformat->notebook>=4.4.1->widgetsnbextension~=3.6.0->ipywidgets<8,>=7->tensorflow-model-analysis<0.44.0,>=0.43.0->tfx) (1.2.3)\r\n"
     ]
    }
   ],
   "source": [
    "!pip install -U tfx"
   ]
  },
  {
   "cell_type": "code",
   "execution_count": 2,
   "metadata": {
    "colab": {
     "base_uri": "https://localhost:8080/"
    },
    "id": "VWQAjR99VyJC",
    "outputId": "d29b091c-7061-438b-b30a-aa3325dc0b96",
    "pycharm": {
     "name": "#%%\n"
    }
   },
   "outputs": [],
   "source": [
    "# getting the code directly from the repo\n",
    "x = !pwd\n",
    "\n",
    "#if 'feature_selection' not in str(x):\n",
    "#  !git clone  -b main https://github.com/deutranium/tfx-addons.git\n",
    "#  %cd tfx-addons/tfx_addons/example_filter"
   ]
  },
  {
   "cell_type": "markdown",
   "metadata": {
    "id": "g1q__3R4V4jJ",
    "pycharm": {
     "name": "#%% md\n"
    }
   },
   "source": [
    "### Import packages\n",
    "Importing the necessary packages, including the standard TFX component classes"
   ]
  },
  {
   "cell_type": "code",
   "execution_count": 3,
   "outputs": [
    {
     "name": "stderr",
     "output_type": "stream",
     "text": [
      "2023-04-19 21:17:16.528723: I tensorflow/core/platform/cpu_feature_guard.cc:193] This TensorFlow binary is optimized with oneAPI Deep Neural Network Library (oneDNN) to use the following CPU instructions in performance-critical operations:  AVX2 FMA\n",
      "To enable them in other operations, rebuild TensorFlow with the appropriate compiler flags.\n",
      "2023-04-19 21:17:17.132167: W tensorflow/compiler/xla/stream_executor/platform/default/dso_loader.cc:64] Could not load dynamic library 'libnvinfer.so.7'; dlerror: libnvinfer.so.7: cannot open shared object file: No such file or directory\n",
      "2023-04-19 21:17:17.132204: W tensorflow/compiler/xla/stream_executor/platform/default/dso_loader.cc:64] Could not load dynamic library 'libnvinfer_plugin.so.7'; dlerror: libnvinfer_plugin.so.7: cannot open shared object file: No such file or directory\n",
      "2023-04-19 21:17:17.132209: W tensorflow/compiler/tf2tensorrt/utils/py_utils.cc:38] TF-TRT Warning: Cannot dlopen some TensorRT libraries. If you would like to use Nvidia GPU with TensorRT, please make sure the missing libraries mentioned above are installed properly.\n"
     ]
    }
   ],
   "source": [
    "import tensorflow as tf\n",
    "import os\n",
    "from absl.testing import absltest\n",
    "from tfx.types import (artifact_utils, channel_utils, standard_artifacts,\n",
    "                       standard_component_specs)\n",
    "from tfx_addons.example_filter.component import FilterComponent\n",
    "\n",
    "from tfx import v1 as tfx\n",
    "from tfx.components import CsvExampleGen\n",
    "from tfx.orchestration.experimental.interactive.interactive_context import InteractiveContext\n",
    "\n",
    "\n",
    "\n",
    "\n",
    "# This is the root directory for your TFX pip package installation.\n",
    "_tfx_root = tfx.__path__[0]"
   ],
   "metadata": {
    "collapsed": false,
    "pycharm": {
     "name": "#%%\n"
    }
   }
  },
  {
   "cell_type": "markdown",
   "source": [
    "### Load Example Data\n",
    "\n",
    "We load the example dataset from the data directory.\n"
   ],
   "metadata": {
    "collapsed": false,
    "pycharm": {
     "name": "#%% md\n"
    }
   }
  },
  {
   "cell_type": "code",
   "execution_count": 4,
   "outputs": [],
   "source": [
    "source_data_dir = os.path.join(os.getcwd(), 'data')\n",
    "examples = standard_artifacts.Examples()\n",
    "examples.uri = os.path.join(source_data_dir, \"example_gen\")\n",
    "examples.split_names = artifact_utils.encode_split_names(['train', 'eval'])"
   ],
   "metadata": {
    "collapsed": false,
    "pycharm": {
     "name": "#%%\n"
    }
   }
  },
  {
   "cell_type": "markdown",
   "source": [
    "### Run TFX Components\n",
    "In the cells that follow, we run the example filter and we will filter the data acording to our function and after that we will write it to a file named 'output'."
   ],
   "metadata": {
    "collapsed": false,
    "pycharm": {
     "name": "#%% md\n"
    }
   }
  },
  {
   "cell_type": "code",
   "execution_count": 6,
   "outputs": [
    {
     "name": "stdout",
     "output_type": "stream",
     "text": [
      "WARNING:tensorflow:From /home/x000ff4/open_source/tfx-addons/tfx_addons/example_filter/component.py:109: TFRecordWriter.__init__ (from tensorflow.python.data.experimental.ops.writers) is deprecated and will be removed in a future version.\n",
      "Instructions for updating:\n",
      "To write TFRecords to disk, use `tf.io.TFRecordWriter`. To save and load the contents of a dataset, use `tf.data.experimental.save` and `tf.data.experimental.load`\n"
     ]
    },
    {
     "name": "stderr",
     "output_type": "stream",
     "text": [
      "WARNING:tensorflow:From /home/x000ff4/open_source/tfx-addons/tfx_addons/example_filter/component.py:109: TFRecordWriter.__init__ (from tensorflow.python.data.experimental.ops.writers) is deprecated and will be removed in a future version.\n",
      "Instructions for updating:\n",
      "To write TFRecords to disk, use `tf.io.TFRecordWriter`. To save and load the contents of a dataset, use `tf.data.experimental.save` and `tf.data.experimental.load`\n"
     ]
    },
    {
     "name": "stdout",
     "output_type": "stream",
     "text": [
      "WARNING:tensorflow:From /home/x000ff4/anaconda3/envs/tfx-addons/lib/python3.9/site-packages/tensorflow/python/autograph/pyct/static_analysis/liveness.py:83: Analyzer.lamba_check (from tensorflow.python.autograph.pyct.static_analysis.liveness) is deprecated and will be removed after 2023-09-23.\n",
      "Instructions for updating:\n",
      "Lambda fuctions will be no more assumed to be used in the statement where they are used, or at least in the same block. https://github.com/tensorflow/tensorflow/issues/56089\n"
     ]
    },
    {
     "name": "stderr",
     "output_type": "stream",
     "text": [
      "WARNING:tensorflow:From /home/x000ff4/anaconda3/envs/tfx-addons/lib/python3.9/site-packages/tensorflow/python/autograph/pyct/static_analysis/liveness.py:83: Analyzer.lamba_check (from tensorflow.python.autograph.pyct.static_analysis.liveness) is deprecated and will be removed after 2023-09-23.\n",
      "Instructions for updating:\n",
      "Lambda fuctions will be no more assumed to be used in the statement where they are used, or at least in the same block. https://github.com/tensorflow/tensorflow/issues/56089\n"
     ]
    },
    {
     "data": {
      "text/plain": "{'list_len': 18}"
     },
     "execution_count": 6,
     "metadata": {},
     "output_type": "execute_result"
    }
   ],
   "source": [
    "params = {\n",
    "            \"input_data\": examples,\n",
    "            \"filter_function_str\": 'filter_function',\n",
    "            \"output_file\": 'output',\n",
    "       }FilterComponent(**params)"
   ],
   "metadata": {
    "collapsed": false,
    "pycharm": {
     "name": "#%%\n"
    }
   }
  },
  {
   "cell_type": "markdown",
   "source": [
    "And we are done . The output is writen to file 'output'"
   ],
   "metadata": {
    "collapsed": false,
    "pycharm": {
     "name": "#%% md\n"
    }
   }
  }
 ],
 "metadata": {
  "colab": {
   "authorship_tag": "ABX9TyNjlgLBpt5jeEZnGqs8tmCZ",
   "collapsed_sections": [],
   "include_colab_link": true,
   "name": "Iris_example_colab.ipynb",
   "provenance": []
  },
  "kernelspec": {
   "display_name": "Python 3 (ipykernel)",
   "language": "python",
   "name": "python3"
  },
  "language_info": {
   "codemirror_mode": {
    "name": "ipython",
    "version": 3
   },
   "file_extension": ".py",
   "mimetype": "text/x-python",
   "name": "python",
   "nbconvert_exporter": "python",
   "pygments_lexer": "ipython3",
   "version": "3.8.5"
  }
 },
 "nbformat": 4,
 "nbformat_minor": 1
}