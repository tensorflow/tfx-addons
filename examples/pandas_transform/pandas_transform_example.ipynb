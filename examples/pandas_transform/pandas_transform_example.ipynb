{
  "cells": [
    {
      "cell_type": "markdown",
      "metadata": {
        "id": "DjUA6S30k52h"
      },
      "source": [
        "##### Copyright 2022 The TensorFlow Authors."
      ]
    },
    {
      "cell_type": "code",
      "execution_count": null,
      "metadata": {
        "id": "SpNWyqewk8fE"
      },
      "outputs": [],
      "source": [
        "#@title Licensed under the Apache License, Version 2.0 (the \"License\");\n",
        "# you may not use this file except in compliance with the License.\n",
        "# You may obtain a copy of the License at\n",
        "#\n",
        "# https://www.apache.org/licenses/LICENSE-2.0\n",
        "#\n",
        "# Unless required by applicable law or agreed to in writing, software\n",
        "# distributed under the License is distributed on an \"AS IS\" BASIS,\n",
        "# WITHOUT WARRANTIES OR CONDITIONS OF ANY KIND, either express or implied.\n",
        "# See the License for the specific language governing permissions and\n",
        "# limitations under the License."
      ]
    },
    {
      "cell_type": "markdown",
      "metadata": {
        "id": "6x1ypzczQCwy"
      },
      "source": [
        "# Feature Engineering using TFX Pipeline and Pandas Transform\n",
        "\n",
        "***Transform input data the PandasTransform TFX-Addons component.***"
      ]
    },
    {
      "cell_type": "markdown",
      "metadata": {
        "id": "HU9YYythm0dx"
      },
      "source": [
        "Note: We recommend running this tutorial in a Colab notebook, with no setup required!  Just click \"Run in Google Colab\".\n",
        "\n",
        "<div class=\"devsite-table-wrapper\"><table class=\"tfo-notebook-buttons\" align=\"left\">\n",
        "<td><a target=\"_blank\" href=\"https://colab.research.google.com/github/tensorflow/tfx-addons/blob/master/examples/PandasTransform.example.ipynb\">\n",
        "<img src=\"https://www.tensorflow.org/images/colab_logo_32px.png\">Run in Google Colab</a></td>\n",
        "<td><a target=\"_blank\" href=\"https://github.com/tensorflow/tfx-addons/tree/master/examples/PandasTransform.example.ipynb\">\n",
        "<img width=32px src=\"https://www.tensorflow.org/images/GitHub-Mark-32px.png\">View source on GitHub</a></td>\n",
        "</table></div>"
      ]
    },
    {
      "cell_type": "markdown",
      "metadata": {
        "id": "_VuwrlnvQJ5k"
      },
      "source": [
        "This notebook provides an example of using the TFX-Addons Pandas Transform component to perform feature engineering.  See below for more information on Pandas Transform."
      ]
    },
    {
      "cell_type": "markdown",
      "metadata": {
        "id": "Fmgi8ZvQkScg"
      },
      "source": [
        "## Set Up\n",
        "We first need to install the TFX Python package and download\n",
        "the dataset which we will use for our model.\n",
        "\n",
        "### Upgrade Pip\n",
        "\n",
        "To avoid upgrading Pip in a system when running locally,\n",
        "check to make sure that we are running in Colab.\n",
        "Local systems can of course be upgraded separately."
      ]
    },
    {
      "cell_type": "code",
      "execution_count": 1,
      "metadata": {
        "colab": {
          "base_uri": "https://localhost:8080/"
        },
        "id": "as4OTe2ukSqm",
        "outputId": "a3350c81-7103-4099-f854-840f14801ed5"
      },
      "outputs": [
        {
          "name": "stdout",
          "output_type": "stream",
          "text": [
            "Looking in indexes: https://pypi.org/simple, https://us-python.pkg.dev/colab-wheels/public/simple/\n",
            "Requirement already satisfied: pip in /usr/local/lib/python3.7/dist-packages (21.1.3)\n",
            "Collecting pip\n",
            "  Downloading pip-22.2.2-py3-none-any.whl (2.0 MB)\n",
            "\u001b[K     |████████████████████████████████| 2.0 MB 10.6 MB/s \n",
            "\u001b[?25hInstalling collected packages: pip\n",
            "  Attempting uninstall: pip\n",
            "    Found existing installation: pip 21.1.3\n",
            "    Uninstalling pip-21.1.3:\n",
            "      Successfully uninstalled pip-21.1.3\n",
            "Successfully installed pip-22.2.2\n"
          ]
        }
      ],
      "source": [
        "import sys\n",
        "if 'google.colab' in sys.modules:\n",
        "  !pip install --upgrade pip"
      ]
    },
    {
      "cell_type": "markdown",
      "metadata": {
        "id": "MZOYTt1RW4TK"
      },
      "source": [
        "### Install TFX and TFX-Addons\n"
      ]
    },
    {
      "cell_type": "code",
      "execution_count": 2,
      "metadata": {
        "colab": {
          "base_uri": "https://localhost:8080/"
        },
        "id": "iyQtljP-qPHY",
        "outputId": "466c614f-c6c3-47fc-c666-16e949c4a3cb"
      },
      "outputs": [
        {
          "name": "stdout",
          "output_type": "stream",
          "text": [
            "\u001b[2K     \u001b[90m━━━━━━━━━━━━━━━━━━━━━━━━━━━━━━━━━━━━━━━━\u001b[0m \u001b[32m2.5/2.5 MB\u001b[0m \u001b[31m15.5 MB/s\u001b[0m eta \u001b[36m0:00:00\u001b[0m\n",
            "\u001b[2K     \u001b[90m━━━━━━━━━━━━━━━━━━━━━━━━━━━━━━━━━━━━━━━━\u001b[0m \u001b[32m72.4/72.4 kB\u001b[0m \u001b[31m3.6 MB/s\u001b[0m eta \u001b[36m0:00:00\u001b[0m\n",
            "\u001b[2K     \u001b[90m━━━━━━━━━━━━━━━━━━━━━━━━━━━━━━━━━━━━━━━━\u001b[0m \u001b[32m40.9/40.9 kB\u001b[0m \u001b[31m4.0 MB/s\u001b[0m eta \u001b[36m0:00:00\u001b[0m\n",
            "\u001b[2K     \u001b[90m━━━━━━━━━━━━━━━━━━━━━━━━━━━━━━━━━━━━━━━━\u001b[0m \u001b[32m1.5/1.5 MB\u001b[0m \u001b[31m67.1 MB/s\u001b[0m eta \u001b[36m0:00:00\u001b[0m\n",
            "\u001b[2K     \u001b[90m━━━━━━━━━━━━━━━━━━━━━━━━━━━━━━━━━━━━━━\u001b[0m \u001b[32m135.7/135.7 kB\u001b[0m \u001b[31m14.8 MB/s\u001b[0m eta \u001b[36m0:00:00\u001b[0m\n",
            "\u001b[2K     \u001b[90m━━━━━━━━━━━━━━━━━━━━━━━━━━━━━━━━━━━━━━━━\u001b[0m \u001b[32m1.3/1.3 MB\u001b[0m \u001b[31m55.2 MB/s\u001b[0m eta \u001b[36m0:00:00\u001b[0m\n",
            "\u001b[2K     \u001b[90m━━━━━━━━━━━━━━━━━━━━━━━━━━━━━━━━━━━━━━━━\u001b[0m \u001b[32m49.3/49.3 kB\u001b[0m \u001b[31m4.4 MB/s\u001b[0m eta \u001b[36m0:00:00\u001b[0m\n",
            "\u001b[2K     \u001b[90m━━━━━━━━━━━━━━━━━━━━━━━━━━━━━━━━━━━━━━━━\u001b[0m \u001b[32m1.8/1.8 MB\u001b[0m \u001b[31m56.3 MB/s\u001b[0m eta \u001b[36m0:00:00\u001b[0m\n",
            "\u001b[2K     \u001b[90m━━━━━━━━━━━━━━━━━━━━━━━━━━━━━━━━━━━━━━━━\u001b[0m \u001b[32m10.9/10.9 MB\u001b[0m \u001b[31m72.6 MB/s\u001b[0m eta \u001b[36m0:00:00\u001b[0m\n",
            "\u001b[2K     \u001b[90m━━━━━━━━━━━━━━━━━━━━━━━━━━━━━━━━━━━━━━━━\u001b[0m \u001b[32m23.6/23.6 MB\u001b[0m \u001b[31m50.6 MB/s\u001b[0m eta \u001b[36m0:00:00\u001b[0m\n",
            "\u001b[2K     \u001b[90m━━━━━━━━━━━━━━━━━━━━━━━━━━━━━━━━━━━━━━━━\u001b[0m \u001b[32m2.2/2.2 MB\u001b[0m \u001b[31m73.3 MB/s\u001b[0m eta \u001b[36m0:00:00\u001b[0m\n",
            "\u001b[2K     \u001b[90m━━━━━━━━━━━━━━━━━━━━━━━━━━━━━━━━━━━━━━━━\u001b[0m \u001b[32m1.7/1.7 MB\u001b[0m \u001b[31m65.2 MB/s\u001b[0m eta \u001b[36m0:00:00\u001b[0m\n",
            "\u001b[2K     \u001b[90m━━━━━━━━━━━━━━━━━━━━━━━━━━━━━━━━━━━━━━\u001b[0m \u001b[32m147.0/147.0 kB\u001b[0m \u001b[31m17.0 MB/s\u001b[0m eta \u001b[36m0:00:00\u001b[0m\n",
            "\u001b[2K     \u001b[90m━━━━━━━━━━━━━━━━━━━━━━━━━━━━━━━━━━━━━━━━\u001b[0m \u001b[32m19.2/19.2 MB\u001b[0m \u001b[31m50.8 MB/s\u001b[0m eta \u001b[36m0:00:00\u001b[0m\n",
            "\u001b[2K     \u001b[90m━━━━━━━━━━━━━━━━━━━━━━━━━━━━━━━━━━━━━━\u001b[0m \u001b[32m135.7/135.7 kB\u001b[0m \u001b[31m14.3 MB/s\u001b[0m eta \u001b[36m0:00:00\u001b[0m\n",
            "\u001b[2K     \u001b[90m━━━━━━━━━━━━━━━━━━━━━━━━━━━━━━━━━━━━━━\u001b[0m \u001b[32m206.6/206.6 kB\u001b[0m \u001b[31m22.2 MB/s\u001b[0m eta \u001b[36m0:00:00\u001b[0m\n",
            "\u001b[2K     \u001b[90m━━━━━━━━━━━━━━━━━━━━━━━━━━━━━━━━━━━━━━\u001b[0m \u001b[32m436.8/436.8 kB\u001b[0m \u001b[31m33.0 MB/s\u001b[0m eta \u001b[36m0:00:00\u001b[0m\n",
            "\u001b[2K     \u001b[90m━━━━━━━━━━━━━━━━━━━━━━━━━━━━━━━━━━━━━━━\u001b[0m \u001b[32m511.7/511.7 MB\u001b[0m \u001b[31m2.8 MB/s\u001b[0m eta \u001b[36m0:00:00\u001b[0m\n",
            "\u001b[2K     \u001b[90m━━━━━━━━━━━━━━━━━━━━━━━━━━━━━━━━━━━━━━━━\u001b[0m \u001b[32m6.6/6.6 MB\u001b[0m \u001b[31m66.4 MB/s\u001b[0m eta \u001b[36m0:00:00\u001b[0m\n",
            "\u001b[2K     \u001b[90m━━━━━━━━━━━━━━━━━━━━━━━━━━━━━━━━━━━━━━━━\u001b[0m \u001b[32m2.4/2.4 MB\u001b[0m \u001b[31m41.1 MB/s\u001b[0m eta \u001b[36m0:00:00\u001b[0m\n",
            "\u001b[2K     \u001b[90m━━━━━━━━━━━━━━━━━━━━━━━━━━━━━━━━━━━━━━\u001b[0m \u001b[32m152.0/152.0 kB\u001b[0m \u001b[31m14.0 MB/s\u001b[0m eta \u001b[36m0:00:00\u001b[0m\n",
            "\u001b[?25h  Preparing metadata (setup.py) ... \u001b[?25l\u001b[?25hdone\n",
            "\u001b[2K     \u001b[90m━━━━━━━━━━━━━━━━━━━━━━━━━━━━━━━━━━━━━━\u001b[0m \u001b[32m275.3/275.3 kB\u001b[0m \u001b[31m15.5 MB/s\u001b[0m eta \u001b[36m0:00:00\u001b[0m\n",
            "\u001b[2K     \u001b[90m━━━━━━━━━━━━━━━━━━━━━━━━━━━━━━━━━━━━━━━━\u001b[0m \u001b[32m62.8/62.8 kB\u001b[0m \u001b[31m4.6 MB/s\u001b[0m eta \u001b[36m0:00:00\u001b[0m\n",
            "\u001b[2K     \u001b[90m━━━━━━━━━━━━━━━━━━━━━━━━━━━━━━━━━━━━━━\u001b[0m \u001b[32m508.1/508.1 kB\u001b[0m \u001b[31m21.5 MB/s\u001b[0m eta \u001b[36m0:00:00\u001b[0m\n",
            "\u001b[2K     \u001b[90m━━━━━━━━━━━━━━━━━━━━━━━━━━━━━━━━━━━━━━━━\u001b[0m \u001b[32m47.7/47.7 kB\u001b[0m \u001b[31m3.8 MB/s\u001b[0m eta \u001b[36m0:00:00\u001b[0m\n",
            "\u001b[2K     \u001b[90m━━━━━━━━━━━━━━━━━━━━━━━━━━━━━━━━━━━━━━━━\u001b[0m \u001b[32m83.6/83.6 kB\u001b[0m \u001b[31m6.4 MB/s\u001b[0m eta \u001b[36m0:00:00\u001b[0m\n",
            "\u001b[2K     \u001b[90m━━━━━━━━━━━━━━━━━━━━━━━━━━━━━━━━━━━━━━\u001b[0m \u001b[32m173.5/173.5 kB\u001b[0m \u001b[31m10.6 MB/s\u001b[0m eta \u001b[36m0:00:00\u001b[0m\n",
            "\u001b[?25h  Preparing metadata (setup.py) ... \u001b[?25l\u001b[?25hdone\n",
            "\u001b[2K     \u001b[90m━━━━━━━━━━━━━━━━━━━━━━━━━━━━━━━━━━━━━━\u001b[0m \u001b[32m435.1/435.1 kB\u001b[0m \u001b[31m22.6 MB/s\u001b[0m eta \u001b[36m0:00:00\u001b[0m\n",
            "\u001b[2K     \u001b[90m━━━━━━━━━━━━━━━━━━━━━━━━━━━━━━━━━━━━━━\u001b[0m \u001b[32m265.8/265.8 kB\u001b[0m \u001b[31m16.7 MB/s\u001b[0m eta \u001b[36m0:00:00\u001b[0m\n",
            "\u001b[2K     \u001b[90m━━━━━━━━━━━━━━━━━━━━━━━━━━━━━━━━━━━━━━\u001b[0m \u001b[32m234.8/234.8 kB\u001b[0m \u001b[31m15.5 MB/s\u001b[0m eta \u001b[36m0:00:00\u001b[0m\n",
            "\u001b[2K     \u001b[90m━━━━━━━━━━━━━━━━━━━━━━━━━━━━━━━━━━━━━━\u001b[0m \u001b[32m180.2/180.2 kB\u001b[0m \u001b[31m15.5 MB/s\u001b[0m eta \u001b[36m0:00:00\u001b[0m\n",
            "\u001b[2K     \u001b[90m━━━━━━━━━━━━━━━━━━━━━━━━━━━━━━━━━━━━━━\u001b[0m \u001b[32m255.6/255.6 kB\u001b[0m \u001b[31m16.7 MB/s\u001b[0m eta \u001b[36m0:00:00\u001b[0m\n",
            "\u001b[2K     \u001b[90m━━━━━━━━━━━━━━━━━━━━━━━━━━━━━━━━━━━━━━\u001b[0m \u001b[32m267.7/267.7 kB\u001b[0m \u001b[31m20.2 MB/s\u001b[0m eta \u001b[36m0:00:00\u001b[0m\n",
            "\u001b[2K     \u001b[90m━━━━━━━━━━━━━━━━━━━━━━━━━━━━━━━━━━━━━━\u001b[0m \u001b[32m181.6/181.6 kB\u001b[0m \u001b[31m13.4 MB/s\u001b[0m eta \u001b[36m0:00:00\u001b[0m\n",
            "\u001b[2K     \u001b[90m━━━━━━━━━━━━━━━━━━━━━━━━━━━━━━━━━━━━━━\u001b[0m \u001b[32m183.9/183.9 kB\u001b[0m \u001b[31m12.8 MB/s\u001b[0m eta \u001b[36m0:00:00\u001b[0m\n",
            "\u001b[2K     \u001b[90m━━━━━━━━━━━━━━━━━━━━━━━━━━━━━━━━━━━━━━━\u001b[0m \u001b[32m119.4/119.4 kB\u001b[0m \u001b[31m8.4 MB/s\u001b[0m eta \u001b[36m0:00:00\u001b[0m\n",
            "\u001b[2K     \u001b[90m━━━━━━━━━━━━━━━━━━━━━━━━━━━━━━━━━━━━━━━━\u001b[0m \u001b[32m54.3/54.3 kB\u001b[0m \u001b[31m5.0 MB/s\u001b[0m eta \u001b[36m0:00:00\u001b[0m\n",
            "\u001b[2K     \u001b[90m━━━━━━━━━━━━━━━━━━━━━━━━━━━━━━━━━━━━━━\u001b[0m \u001b[32m107.0/107.0 kB\u001b[0m \u001b[31m10.4 MB/s\u001b[0m eta \u001b[36m0:00:00\u001b[0m\n",
            "\u001b[2K     \u001b[90m━━━━━━━━━━━━━━━━━━━━━━━━━━━━━━━━━━━━━━\u001b[0m \u001b[32m114.6/114.6 kB\u001b[0m \u001b[31m10.6 MB/s\u001b[0m eta \u001b[36m0:00:00\u001b[0m\n",
            "\u001b[2K     \u001b[90m━━━━━━━━━━━━━━━━━━━━━━━━━━━━━━━━━━━━━━\u001b[0m \u001b[32m231.2/231.2 kB\u001b[0m \u001b[31m18.4 MB/s\u001b[0m eta \u001b[36m0:00:00\u001b[0m\n",
            "\u001b[2K     \u001b[90m━━━━━━━━━━━━━━━━━━━━━━━━━━━━━━━━━━━━━━━━\u001b[0m \u001b[32m1.0/1.0 MB\u001b[0m \u001b[31m28.2 MB/s\u001b[0m eta \u001b[36m0:00:00\u001b[0m\n",
            "\u001b[2K     \u001b[90m━━━━━━━━━━━━━━━━━━━━━━━━━━━━━━━━━━━━━━━━\u001b[0m \u001b[32m76.9/76.9 kB\u001b[0m \u001b[31m9.0 MB/s\u001b[0m eta \u001b[36m0:00:00\u001b[0m\n",
            "\u001b[2K     \u001b[90m━━━━━━━━━━━━━━━━━━━━━━━━━━━━━━━━━━━━━━\u001b[0m \u001b[32m438.7/438.7 kB\u001b[0m \u001b[31m28.9 MB/s\u001b[0m eta \u001b[36m0:00:00\u001b[0m\n",
            "\u001b[2K     \u001b[90m━━━━━━━━━━━━━━━━━━━━━━━━━━━━━━━━━━━━━━━━\u001b[0m \u001b[32m5.8/5.8 MB\u001b[0m \u001b[31m45.4 MB/s\u001b[0m eta \u001b[36m0:00:00\u001b[0m\n",
            "\u001b[2K     \u001b[90m━━━━━━━━━━━━━━━━━━━━━━━━━━━━━━━━━━━━━━━━\u001b[0m \u001b[32m1.6/1.6 MB\u001b[0m \u001b[31m48.4 MB/s\u001b[0m eta \u001b[36m0:00:00\u001b[0m\n",
            "\u001b[2K     \u001b[90m━━━━━━━━━━━━━━━━━━━━━━━━━━━━━━━━━━━━━━━━\u001b[0m \u001b[32m1.1/1.1 MB\u001b[0m \u001b[31m36.0 MB/s\u001b[0m eta \u001b[36m0:00:00\u001b[0m\n",
            "\u001b[2K     \u001b[90m━━━━━━━━━━━━━━━━━━━━━━━━━━━━━━━━━━━━━━━━\u001b[0m \u001b[32m99.9/99.9 kB\u001b[0m \u001b[31m10.7 MB/s\u001b[0m eta \u001b[36m0:00:00\u001b[0m\n",
            "\u001b[?25h  Preparing metadata (setup.py) ... \u001b[?25l\u001b[?25hdone\n",
            "\u001b[2K     \u001b[90m━━━━━━━━━━━━━━━━━━━━━━━━━━━━━━━━━━━━━━\u001b[0m \u001b[32m294.9/294.9 kB\u001b[0m \u001b[31m20.9 MB/s\u001b[0m eta \u001b[36m0:00:00\u001b[0m\n",
            "\u001b[2K     \u001b[90m━━━━━━━━━━━━━━━━━━━━━━━━━━━━━━━━━━━━━━\u001b[0m \u001b[32m793.8/793.8 kB\u001b[0m \u001b[31m39.5 MB/s\u001b[0m eta \u001b[36m0:00:00\u001b[0m\n",
            "\u001b[2K     \u001b[90m━━━━━━━━━━━━━━━━━━━━━━━━━━━━━━━━━━━━━━\u001b[0m \u001b[32m114.7/114.7 kB\u001b[0m \u001b[31m10.5 MB/s\u001b[0m eta \u001b[36m0:00:00\u001b[0m\n",
            "\u001b[2K     \u001b[90m━━━━━━━━━━━━━━━━━━━━━━━━━━━━━━━━━━━━━━\u001b[0m \u001b[32m114.7/114.7 kB\u001b[0m \u001b[31m12.6 MB/s\u001b[0m eta \u001b[36m0:00:00\u001b[0m\n",
            "\u001b[2K     \u001b[90m━━━━━━━━━━━━━━━━━━━━━━━━━━━━━━━━━━━━━━━━\u001b[0m \u001b[32m93.6/93.6 kB\u001b[0m \u001b[31m10.1 MB/s\u001b[0m eta \u001b[36m0:00:00\u001b[0m\n",
            "\u001b[2K     \u001b[90m━━━━━━━━━━━━━━━━━━━━━━━━━━━━━━━━━━━━━━\u001b[0m \u001b[32m107.0/107.0 kB\u001b[0m \u001b[31m11.8 MB/s\u001b[0m eta \u001b[36m0:00:00\u001b[0m\n",
            "\u001b[2K     \u001b[90m━━━━━━━━━━━━━━━━━━━━━━━━━━━━━━━━━━━━━━\u001b[0m \u001b[32m107.1/107.1 kB\u001b[0m \u001b[31m10.2 MB/s\u001b[0m eta \u001b[36m0:00:00\u001b[0m\n",
            "\u001b[2K     \u001b[90m━━━━━━━━━━━━━━━━━━━━━━━━━━━━━━━━━━━━━━\u001b[0m \u001b[32m107.1/107.1 kB\u001b[0m \u001b[31m11.6 MB/s\u001b[0m eta \u001b[36m0:00:00\u001b[0m\n",
            "\u001b[?25h  Preparing metadata (setup.py) ... \u001b[?25l\u001b[?25hdone\n",
            "\u001b[2K     \u001b[90m━━━━━━━━━━━━━━━━━━━━━━━━━━━━━━━━━━━━━━\u001b[0m \u001b[32m381.7/381.7 kB\u001b[0m \u001b[31m20.0 MB/s\u001b[0m eta \u001b[36m0:00:00\u001b[0m\n",
            "\u001b[?25h  Building wheel for google-apitools (setup.py) ... \u001b[?25l\u001b[?25hdone\n",
            "  Building wheel for dill (setup.py) ... \u001b[?25l\u001b[?25hdone\n",
            "  Building wheel for pyfarmhash (setup.py) ... \u001b[?25l\u001b[?25hdone\n",
            "  Building wheel for docopt (setup.py) ... \u001b[?25l\u001b[?25hdone\n",
            "\u001b[31mERROR: pip's dependency resolver does not currently take into account all the packages that are installed. This behaviour is the source of the following dependency conflicts.\n",
            "pandas-gbq 0.13.3 requires google-cloud-bigquery[bqstorage,pandas]<2.0.0dev,>=1.11.1, but you have google-cloud-bigquery 2.34.4 which is incompatible.\n",
            "jupyter-console 5.2.0 requires prompt-toolkit<2.0.0,>=1.0.0, but you have prompt-toolkit 3.0.30 which is incompatible.\n",
            "gym 0.17.3 requires cloudpickle<1.7.0,>=1.2.0, but you have cloudpickle 2.1.0 which is incompatible.\n",
            "google-colab 1.0.0 requires ipython~=5.5.0, but you have ipython 7.34.0 which is incompatible.\u001b[0m\u001b[31m\n",
            "\u001b[0m\u001b[33mWARNING: Running pip as the 'root' user can result in broken permissions and conflicting behaviour with the system package manager. It is recommended to use a virtual environment instead: https://pip.pypa.io/warnings/venv\u001b[0m\u001b[33m\n",
            "\u001b[0m"
          ]
        }
      ],
      "source": [
        "!pip install -q tfx tfx-addons"
      ]
    },
    {
      "cell_type": "markdown",
      "metadata": {
        "id": "EwT0nov5QO1M"
      },
      "source": [
        "### Did you restart the runtime?\n",
        "\n",
        "If you are using Google Colab, the first time that you run\n",
        "the cell above, you must restart the runtime by clicking\n",
        "above \"RESTART RUNTIME\" button or using \"Runtime > Restart\n",
        "runtime ...\" menu. This is because of the way that Colab\n",
        "loads packages."
      ]
    },
    {
      "cell_type": "markdown",
      "metadata": {
        "id": "BDnPgN8UJtzN"
      },
      "source": [
        "Check the TensorFlow, TFX, TFX-Addons, and Pandas versions."
      ]
    },
    {
      "cell_type": "code",
      "execution_count": 1,
      "metadata": {
        "colab": {
          "base_uri": "https://localhost:8080/"
        },
        "id": "6jh7vKSRqPHb",
        "outputId": "7e4fe906-d1b8-4397-a95a-c8221c1c040f"
      },
      "outputs": [
        {
          "name": "stdout",
          "output_type": "stream",
          "text": [
            "TensorFlow version: 2.9.1\n",
            "TFX version: 1.9.1\n",
            "TFX-Addons version: 0.2.4\n",
            "Pandas version: 1.3.5\n"
          ]
        }
      ],
      "source": [
        "import tensorflow as tf\n",
        "print('TensorFlow version: {}'.format(tf.__version__))\n",
        "from tfx import v1 as tfx\n",
        "print('TFX version: {}'.format(tfx.__version__))\n",
        "import tfx_addons\n",
        "print('TFX-Addons version: {}'.format(tfx_addons.__version__))\n",
        "import pandas as pd\n",
        "print('Pandas version: {}'.format(pd.__version__))"
      ]
    },
    {
      "cell_type": "markdown",
      "metadata": {
        "id": "9-xbEpUtLG5N"
      },
      "source": [
        "More Imports"
      ]
    },
    {
      "cell_type": "code",
      "execution_count": 2,
      "metadata": {
        "id": "qhKKodvaLR7O"
      },
      "outputs": [],
      "source": [
        "import os\n",
        "import pprint\n",
        "\n",
        "import absl\n",
        "tf.get_logger().propagate = False\n",
        "pp = pprint.PrettyPrinter()\n",
        "\n",
        "from tfx.orchestration.experimental.interactive.interactive_context import InteractiveContext\n",
        "\n",
        "%load_ext tfx.orchestration.experimental.interactive.notebook_extensions.skip"
      ]
    },
    {
      "cell_type": "markdown",
      "metadata": {
        "id": "aDtLdSkvqPHe"
      },
      "source": [
        "### Set up variables\n",
        "\n",
        "There are some variables used to define a pipeline. You can customize these\n",
        "variables as you want. By default all output from the pipeline will be\n",
        "generated under the current directory."
      ]
    },
    {
      "cell_type": "code",
      "execution_count": 3,
      "metadata": {
        "id": "EcUseqJaE2XN"
      },
      "outputs": [],
      "source": [
        "PIPELINE_NAME = \"pandas-transform\"\n",
        "\n",
        "# Output directory to store artifacts generated from the pipeline.\n",
        "PIPELINE_ROOT = os.path.join('pipelines', PIPELINE_NAME)\n",
        "# Path to a SQLite DB file to use as an MLMD storage.\n",
        "METADATA_PATH = os.path.join('metadata', PIPELINE_NAME, 'metadata.db')\n",
        "# Output directory where created models from the pipeline will be exported.\n",
        "SERVING_MODEL_DIR = os.path.join('serving_model', PIPELINE_NAME)\n",
        "\n",
        "from absl import logging\n",
        "logging.set_verbosity(logging.INFO)  # Set default logging level."
      ]
    },
    {
      "cell_type": "markdown",
      "metadata": {
        "id": "qsO0l5F3dzOr"
      },
      "source": [
        "### Prepare example data\n",
        "We will download the example dataset for use in our TFX pipeline. The dataset\n",
        "we are using is\n",
        "[Palmer Penguins dataset](https://allisonhorst.github.io/palmerpenguins/articles/intro.html).\n",
        "\n",
        "We will use the **raw** Palmer Penguins dataset.\n",
        "\n",
        "There are four numeric features in this dataset:\n",
        "\n",
        "- culmen_length_mm\n",
        "- culmen_depth_mm\n",
        "- flipper_length_mm\n",
        "- body_mass_g"
      ]
    },
    {
      "cell_type": "markdown",
      "metadata": {
        "id": "11J7XiCq6AFP"
      },
      "source": [
        "Because the TFX ExampleGen component reads inputs from a directory, we need\n",
        "to create a directory and copy the dataset to it."
      ]
    },
    {
      "cell_type": "code",
      "execution_count": 4,
      "metadata": {
        "colab": {
          "base_uri": "https://localhost:8080/"
        },
        "id": "4fxMs6u86acP",
        "outputId": "a404c47e-2001-4e61-d273-4061515486e0"
      },
      "outputs": [
        {
          "data": {
            "text/plain": [
              "('/tmp/tfx-datazpl889sz/data.csv', <http.client.HTTPMessage at 0x7efe54f3af10>)"
            ]
          },
          "execution_count": 4,
          "metadata": {},
          "output_type": "execute_result"
        }
      ],
      "source": [
        "import urllib.request\n",
        "import tempfile\n",
        "\n",
        "DATA_ROOT = tempfile.mkdtemp(prefix='tfx-data')  # Create a temporary directory.\n",
        "_data_path = 'https://storage.googleapis.com/download.tensorflow.org/data/palmer_penguins/penguins_size.csv'\n",
        "_data_filepath = os.path.join(DATA_ROOT, \"data.csv\")\n",
        "urllib.request.urlretrieve(_data_path, _data_filepath)"
      ]
    },
    {
      "cell_type": "markdown",
      "metadata": {
        "id": "ASpoNmxKSQjI"
      },
      "source": [
        "Take a quick look at what the raw data looks like."
      ]
    },
    {
      "cell_type": "code",
      "execution_count": 5,
      "metadata": {
        "colab": {
          "base_uri": "https://localhost:8080/"
        },
        "id": "-eSz28UDSnlG",
        "outputId": "8baa0833-cdb3-421e-fa60-ac251bb25498"
      },
      "outputs": [
        {
          "name": "stdout",
          "output_type": "stream",
          "text": [
            "species,island,culmen_length_mm,culmen_depth_mm,flipper_length_mm,body_mass_g,sex\n",
            "Adelie,Torgersen,39.1,18.7,181,3750,MALE\n",
            "Adelie,Torgersen,39.5,17.4,186,3800,FEMALE\n",
            "Adelie,Torgersen,40.3,18,195,3250,FEMALE\n",
            "Adelie,Torgersen,NA,NA,NA,NA,NA\n",
            "Adelie,Torgersen,36.7,19.3,193,3450,FEMALE\n",
            "Adelie,Torgersen,39.3,20.6,190,3650,MALE\n",
            "Adelie,Torgersen,38.9,17.8,181,3625,FEMALE\n",
            "Adelie,Torgersen,39.2,19.6,195,4675,MALE\n",
            "Adelie,Torgersen,34.1,18.1,193,3475,NA\n"
          ]
        }
      ],
      "source": [
        "!head {_data_filepath}"
      ]
    },
    {
      "cell_type": "markdown",
      "metadata": {
        "id": "OTtQNq1DdVvG"
      },
      "source": [
        "There are some entries with missing values which are represented as `NA`.\n",
        "We will just delete those entries in this tutorial."
      ]
    },
    {
      "cell_type": "code",
      "execution_count": 6,
      "metadata": {
        "colab": {
          "base_uri": "https://localhost:8080/"
        },
        "id": "fQhpoaqff9ca",
        "outputId": "92b6599f-a2a8-4777-d8d7-068e26200b93"
      },
      "outputs": [
        {
          "name": "stdout",
          "output_type": "stream",
          "text": [
            "species,island,culmen_length_mm,culmen_depth_mm,flipper_length_mm,body_mass_g,sex\n",
            "Adelie,Torgersen,39.1,18.7,181,3750,MALE\n",
            "Adelie,Torgersen,39.5,17.4,186,3800,FEMALE\n",
            "Adelie,Torgersen,40.3,18,195,3250,FEMALE\n",
            "Adelie,Torgersen,36.7,19.3,193,3450,FEMALE\n",
            "Adelie,Torgersen,39.3,20.6,190,3650,MALE\n",
            "Adelie,Torgersen,38.9,17.8,181,3625,FEMALE\n",
            "Adelie,Torgersen,39.2,19.6,195,4675,MALE\n",
            "Adelie,Torgersen,41.1,17.6,182,3200,FEMALE\n",
            "Adelie,Torgersen,38.6,21.2,191,3800,MALE\n"
          ]
        }
      ],
      "source": [
        "!sed -i '/\\bNA\\b/d' {_data_filepath}\n",
        "!head {_data_filepath}"
      ]
    },
    {
      "cell_type": "markdown",
      "metadata": {
        "id": "z8EOfCy1dzO2"
      },
      "source": [
        "### Create the InteractiveContext\n",
        "Last, we create an InteractiveContext, which will allow us to run TFX components interactively in this notebook."
      ]
    },
    {
      "cell_type": "code",
      "execution_count": 7,
      "metadata": {
        "colab": {
          "base_uri": "https://localhost:8080/"
        },
        "id": "PHdFhCzGK197",
        "outputId": "e24dd8e7-5b17-417d-880a-82b472bc96f1"
      },
      "outputs": [
        {
          "name": "stderr",
          "output_type": "stream",
          "text": [
            "WARNING:absl:InteractiveContext pipeline_root argument not provided: using temporary directory /tmp/tfx-interactive-2022-08-11T23_50_52.905159-v90yotir as root for pipeline outputs.\n",
            "WARNING:absl:InteractiveContext metadata_connection_config not provided: using SQLite ML Metadata database at /tmp/tfx-interactive-2022-08-11T23_50_52.905159-v90yotir/metadata.sqlite.\n"
          ]
        }
      ],
      "source": [
        "context = InteractiveContext()"
      ]
    },
    {
      "cell_type": "markdown",
      "metadata": {
        "id": "w1eugU0rL4Eo"
      },
      "source": [
        "### Ingest the dataset"
      ]
    },
    {
      "cell_type": "code",
      "execution_count": 8,
      "metadata": {
        "colab": {
          "base_uri": "https://localhost:8080/",
          "height": 388
        },
        "id": "FRo4YBKrL66j",
        "outputId": "c9e3acf6-edb4-4d41-8f92-3ce284d63ea3"
      },
      "outputs": [
        {
          "name": "stderr",
          "output_type": "stream",
          "text": [
            "INFO:absl:Running driver for CsvExampleGen\n",
            "INFO:absl:MetadataStore with DB connection initialized\n",
            "INFO:absl:select span and version = (0, None)\n",
            "INFO:absl:latest span and version = (0, None)\n",
            "INFO:absl:Running executor for CsvExampleGen\n",
            "INFO:absl:Generating examples.\n",
            "WARNING:apache_beam.runners.interactive.interactive_environment:Dependencies required for Interactive Beam PCollection visualization are not available, please use: `pip install apache-beam[interactive]` to install necessary dependencies to enable all data visualization features.\n"
          ]
        },
        {
          "data": {
            "application/javascript": "\n        if (typeof window.interactive_beam_jquery == 'undefined') {\n          var jqueryScript = document.createElement('script');\n          jqueryScript.src = 'https://code.jquery.com/jquery-3.4.1.slim.min.js';\n          jqueryScript.type = 'text/javascript';\n          jqueryScript.onload = function() {\n            var datatableScript = document.createElement('script');\n            datatableScript.src = 'https://cdn.datatables.net/1.10.20/js/jquery.dataTables.min.js';\n            datatableScript.type = 'text/javascript';\n            datatableScript.onload = function() {\n              window.interactive_beam_jquery = jQuery.noConflict(true);\n              window.interactive_beam_jquery(document).ready(function($){\n                \n              });\n            }\n            document.head.appendChild(datatableScript);\n          };\n          document.head.appendChild(jqueryScript);\n        } else {\n          window.interactive_beam_jquery(document).ready(function($){\n            \n          });\n        }"
          },
          "metadata": {},
          "output_type": "display_data"
        },
        {
          "name": "stderr",
          "output_type": "stream",
          "text": [
            "INFO:absl:Processing input csv data /tmp/tfx-datazpl889sz/* to TFExample.\n",
            "WARNING:apache_beam.io.tfrecordio:Couldn't find python-snappy so the implementation of _TFRecordUtil._masked_crc32c is not as fast as it could be.\n",
            "INFO:absl:Examples generated.\n",
            "INFO:absl:Running publisher for CsvExampleGen\n",
            "INFO:absl:MetadataStore with DB connection initialized\n"
          ]
        },
        {
          "data": {
            "text/html": [
              "<style>\n",
              ".tfx-object.expanded {\n",
              "  padding: 4px 8px 4px 8px;\n",
              "  background: white;\n",
              "  border: 1px solid #bbbbbb;\n",
              "  box-shadow: 4px 4px 2px rgba(0,0,0,0.05);\n",
              "}\n",
              "html[theme=dark] .tfx-object.expanded {\n",
              "  background: black;\n",
              "}\n",
              ".tfx-object, .tfx-object * {\n",
              "  font-size: 11pt;\n",
              "}\n",
              ".tfx-object > .title {\n",
              "  cursor: pointer;\n",
              "}\n",
              ".tfx-object .expansion-marker {\n",
              "  color: #999999;\n",
              "}\n",
              ".tfx-object.expanded > .title > .expansion-marker:before {\n",
              "  content: '▼';\n",
              "}\n",
              ".tfx-object.collapsed > .title > .expansion-marker:before {\n",
              "  content: '▶';\n",
              "}\n",
              ".tfx-object .class-name {\n",
              "  font-weight: bold;\n",
              "}\n",
              ".tfx-object .deemphasize {\n",
              "  opacity: 0.5;\n",
              "}\n",
              ".tfx-object.collapsed > table.attr-table {\n",
              "  display: none;\n",
              "}\n",
              ".tfx-object.expanded > table.attr-table {\n",
              "  display: block;\n",
              "}\n",
              ".tfx-object table.attr-table {\n",
              "  border: 2px solid white;\n",
              "  margin-top: 5px;\n",
              "}\n",
              "html[theme=dark] .tfx-object table.attr-table {\n",
              "  border: 2px solid black;\n",
              "}\n",
              ".tfx-object table.attr-table td.attr-name {\n",
              "  vertical-align: top;\n",
              "  font-weight: bold;\n",
              "}\n",
              ".tfx-object table.attr-table td.attrvalue {\n",
              "  text-align: left;\n",
              "}\n",
              "</style>\n",
              "<script>\n",
              "function toggleTfxObject(element) {\n",
              "  var objElement = element.parentElement;\n",
              "  if (objElement.classList.contains('collapsed')) {\n",
              "    objElement.classList.remove('collapsed');\n",
              "    objElement.classList.add('expanded');\n",
              "  } else {\n",
              "    objElement.classList.add('collapsed');\n",
              "    objElement.classList.remove('expanded');\n",
              "  }\n",
              "}\n",
              "</script>\n",
              "<div class=\"tfx-object expanded\"><div class = \"title\" onclick=\"toggleTfxObject(this)\"><span class=\"expansion-marker\"></span><span class=\"class-name\">ExecutionResult</span><span class=\"deemphasize\"> at 0x7efe54f1fd90</span></div><table class=\"attr-table\"><tr><td class=\"attr-name\">.execution_id</td><td class = \"attrvalue\">1</td></tr><tr><td class=\"attr-name\">.component</td><td class = \"attrvalue\"><style>\n",
              ".tfx-object.expanded {\n",
              "  padding: 4px 8px 4px 8px;\n",
              "  background: white;\n",
              "  border: 1px solid #bbbbbb;\n",
              "  box-shadow: 4px 4px 2px rgba(0,0,0,0.05);\n",
              "}\n",
              "html[theme=dark] .tfx-object.expanded {\n",
              "  background: black;\n",
              "}\n",
              ".tfx-object, .tfx-object * {\n",
              "  font-size: 11pt;\n",
              "}\n",
              ".tfx-object > .title {\n",
              "  cursor: pointer;\n",
              "}\n",
              ".tfx-object .expansion-marker {\n",
              "  color: #999999;\n",
              "}\n",
              ".tfx-object.expanded > .title > .expansion-marker:before {\n",
              "  content: '▼';\n",
              "}\n",
              ".tfx-object.collapsed > .title > .expansion-marker:before {\n",
              "  content: '▶';\n",
              "}\n",
              ".tfx-object .class-name {\n",
              "  font-weight: bold;\n",
              "}\n",
              ".tfx-object .deemphasize {\n",
              "  opacity: 0.5;\n",
              "}\n",
              ".tfx-object.collapsed > table.attr-table {\n",
              "  display: none;\n",
              "}\n",
              ".tfx-object.expanded > table.attr-table {\n",
              "  display: block;\n",
              "}\n",
              ".tfx-object table.attr-table {\n",
              "  border: 2px solid white;\n",
              "  margin-top: 5px;\n",
              "}\n",
              "html[theme=dark] .tfx-object table.attr-table {\n",
              "  border: 2px solid black;\n",
              "}\n",
              ".tfx-object table.attr-table td.attr-name {\n",
              "  vertical-align: top;\n",
              "  font-weight: bold;\n",
              "}\n",
              ".tfx-object table.attr-table td.attrvalue {\n",
              "  text-align: left;\n",
              "}\n",
              "</style>\n",
              "<script>\n",
              "function toggleTfxObject(element) {\n",
              "  var objElement = element.parentElement;\n",
              "  if (objElement.classList.contains('collapsed')) {\n",
              "    objElement.classList.remove('collapsed');\n",
              "    objElement.classList.add('expanded');\n",
              "  } else {\n",
              "    objElement.classList.add('collapsed');\n",
              "    objElement.classList.remove('expanded');\n",
              "  }\n",
              "}\n",
              "</script>\n",
              "<div class=\"tfx-object collapsed\"><div class = \"title\" onclick=\"toggleTfxObject(this)\"><span class=\"expansion-marker\"></span><span class=\"class-name\">CsvExampleGen</span><span class=\"deemphasize\"> at 0x7efe54f25550</span></div><table class=\"attr-table\"><tr><td class=\"attr-name\">.inputs</td><td class = \"attrvalue\">{}</td></tr><tr><td class=\"attr-name\">.outputs</td><td class = \"attrvalue\"><table class=\"attr-table\"><tr><td class=\"attr-name\">['examples']</td><td class = \"attrvalue\"><style>\n",
              ".tfx-object.expanded {\n",
              "  padding: 4px 8px 4px 8px;\n",
              "  background: white;\n",
              "  border: 1px solid #bbbbbb;\n",
              "  box-shadow: 4px 4px 2px rgba(0,0,0,0.05);\n",
              "}\n",
              "html[theme=dark] .tfx-object.expanded {\n",
              "  background: black;\n",
              "}\n",
              ".tfx-object, .tfx-object * {\n",
              "  font-size: 11pt;\n",
              "}\n",
              ".tfx-object > .title {\n",
              "  cursor: pointer;\n",
              "}\n",
              ".tfx-object .expansion-marker {\n",
              "  color: #999999;\n",
              "}\n",
              ".tfx-object.expanded > .title > .expansion-marker:before {\n",
              "  content: '▼';\n",
              "}\n",
              ".tfx-object.collapsed > .title > .expansion-marker:before {\n",
              "  content: '▶';\n",
              "}\n",
              ".tfx-object .class-name {\n",
              "  font-weight: bold;\n",
              "}\n",
              ".tfx-object .deemphasize {\n",
              "  opacity: 0.5;\n",
              "}\n",
              ".tfx-object.collapsed > table.attr-table {\n",
              "  display: none;\n",
              "}\n",
              ".tfx-object.expanded > table.attr-table {\n",
              "  display: block;\n",
              "}\n",
              ".tfx-object table.attr-table {\n",
              "  border: 2px solid white;\n",
              "  margin-top: 5px;\n",
              "}\n",
              "html[theme=dark] .tfx-object table.attr-table {\n",
              "  border: 2px solid black;\n",
              "}\n",
              ".tfx-object table.attr-table td.attr-name {\n",
              "  vertical-align: top;\n",
              "  font-weight: bold;\n",
              "}\n",
              ".tfx-object table.attr-table td.attrvalue {\n",
              "  text-align: left;\n",
              "}\n",
              "</style>\n",
              "<script>\n",
              "function toggleTfxObject(element) {\n",
              "  var objElement = element.parentElement;\n",
              "  if (objElement.classList.contains('collapsed')) {\n",
              "    objElement.classList.remove('collapsed');\n",
              "    objElement.classList.add('expanded');\n",
              "  } else {\n",
              "    objElement.classList.add('collapsed');\n",
              "    objElement.classList.remove('expanded');\n",
              "  }\n",
              "}\n",
              "</script>\n",
              "<div class=\"tfx-object collapsed\"><div class = \"title\" onclick=\"toggleTfxObject(this)\"><span class=\"expansion-marker\"></span><span class=\"class-name\">Channel</span> of type <span class=\"class-name\">'Examples'</span> (1 artifact)<span class=\"deemphasize\"> at 0x7efed207cad0</span></div><table class=\"attr-table\"><tr><td class=\"attr-name\">.type_name</td><td class = \"attrvalue\">Examples</td></tr><tr><td class=\"attr-name\">._artifacts</td><td class = \"attrvalue\"><table class=\"attr-table\"><tr><td class=\"attr-name\">[0]</td><td class = \"attrvalue\"><style>\n",
              ".tfx-object.expanded {\n",
              "  padding: 4px 8px 4px 8px;\n",
              "  background: white;\n",
              "  border: 1px solid #bbbbbb;\n",
              "  box-shadow: 4px 4px 2px rgba(0,0,0,0.05);\n",
              "}\n",
              "html[theme=dark] .tfx-object.expanded {\n",
              "  background: black;\n",
              "}\n",
              ".tfx-object, .tfx-object * {\n",
              "  font-size: 11pt;\n",
              "}\n",
              ".tfx-object > .title {\n",
              "  cursor: pointer;\n",
              "}\n",
              ".tfx-object .expansion-marker {\n",
              "  color: #999999;\n",
              "}\n",
              ".tfx-object.expanded > .title > .expansion-marker:before {\n",
              "  content: '▼';\n",
              "}\n",
              ".tfx-object.collapsed > .title > .expansion-marker:before {\n",
              "  content: '▶';\n",
              "}\n",
              ".tfx-object .class-name {\n",
              "  font-weight: bold;\n",
              "}\n",
              ".tfx-object .deemphasize {\n",
              "  opacity: 0.5;\n",
              "}\n",
              ".tfx-object.collapsed > table.attr-table {\n",
              "  display: none;\n",
              "}\n",
              ".tfx-object.expanded > table.attr-table {\n",
              "  display: block;\n",
              "}\n",
              ".tfx-object table.attr-table {\n",
              "  border: 2px solid white;\n",
              "  margin-top: 5px;\n",
              "}\n",
              "html[theme=dark] .tfx-object table.attr-table {\n",
              "  border: 2px solid black;\n",
              "}\n",
              ".tfx-object table.attr-table td.attr-name {\n",
              "  vertical-align: top;\n",
              "  font-weight: bold;\n",
              "}\n",
              ".tfx-object table.attr-table td.attrvalue {\n",
              "  text-align: left;\n",
              "}\n",
              "</style>\n",
              "<script>\n",
              "function toggleTfxObject(element) {\n",
              "  var objElement = element.parentElement;\n",
              "  if (objElement.classList.contains('collapsed')) {\n",
              "    objElement.classList.remove('collapsed');\n",
              "    objElement.classList.add('expanded');\n",
              "  } else {\n",
              "    objElement.classList.add('collapsed');\n",
              "    objElement.classList.remove('expanded');\n",
              "  }\n",
              "}\n",
              "</script>\n",
              "<div class=\"tfx-object collapsed\"><div class = \"title\" onclick=\"toggleTfxObject(this)\"><span class=\"expansion-marker\"></span><span class=\"class-name\">Artifact</span> of type <span class=\"class-name\">'Examples'</span> (uri: /tmp/tfx-interactive-2022-08-11T23_50_52.905159-v90yotir/CsvExampleGen/examples/1)<span class=\"deemphasize\"> at 0x7efe54f3a2d0</span></div><table class=\"attr-table\"><tr><td class=\"attr-name\">.type</td><td class = \"attrvalue\">&lt;class &#x27;tfx.types.standard_artifacts.Examples&#x27;&gt;</td></tr><tr><td class=\"attr-name\">.uri</td><td class = \"attrvalue\">/tmp/tfx-interactive-2022-08-11T23_50_52.905159-v90yotir/CsvExampleGen/examples/1</td></tr><tr><td class=\"attr-name\">.span</td><td class = \"attrvalue\">0</td></tr><tr><td class=\"attr-name\">.split_names</td><td class = \"attrvalue\">[&quot;train&quot;, &quot;eval&quot;]</td></tr><tr><td class=\"attr-name\">.version</td><td class = \"attrvalue\">0</td></tr></table></div></td></tr></table></td></tr></table></div></td></tr></table></td></tr><tr><td class=\"attr-name\">.exec_properties</td><td class = \"attrvalue\"><table class=\"attr-table\"><tr><td class=\"attr-name\">['input_base']</td><td class = \"attrvalue\">/tmp/tfx-datazpl889sz</td></tr><tr><td class=\"attr-name\">['input_config']</td><td class = \"attrvalue\">{\n",
              "  &quot;splits&quot;: [\n",
              "    {\n",
              "      &quot;name&quot;: &quot;single_split&quot;,\n",
              "      &quot;pattern&quot;: &quot;*&quot;\n",
              "    }\n",
              "  ]\n",
              "}</td></tr><tr><td class=\"attr-name\">['output_config']</td><td class = \"attrvalue\">{\n",
              "  &quot;split_config&quot;: {\n",
              "    &quot;splits&quot;: [\n",
              "      {\n",
              "        &quot;hash_buckets&quot;: 2,\n",
              "        &quot;name&quot;: &quot;train&quot;\n",
              "      },\n",
              "      {\n",
              "        &quot;hash_buckets&quot;: 1,\n",
              "        &quot;name&quot;: &quot;eval&quot;\n",
              "      }\n",
              "    ]\n",
              "  }\n",
              "}</td></tr><tr><td class=\"attr-name\">['output_data_format']</td><td class = \"attrvalue\">6</td></tr><tr><td class=\"attr-name\">['output_file_format']</td><td class = \"attrvalue\">5</td></tr><tr><td class=\"attr-name\">['custom_config']</td><td class = \"attrvalue\">None</td></tr><tr><td class=\"attr-name\">['range_config']</td><td class = \"attrvalue\">None</td></tr><tr><td class=\"attr-name\">['span']</td><td class = \"attrvalue\">0</td></tr><tr><td class=\"attr-name\">['version']</td><td class = \"attrvalue\">None</td></tr><tr><td class=\"attr-name\">['input_fingerprint']</td><td class = \"attrvalue\">split:single_split,num_files:1,total_bytes:13161,xor_checksum:1660261848,sum_checksum:1660261848</td></tr></table></td></tr></table></div></td></tr><tr><td class=\"attr-name\">.component.inputs</td><td class = \"attrvalue\">{}</td></tr><tr><td class=\"attr-name\">.component.outputs</td><td class = \"attrvalue\"><table class=\"attr-table\"><tr><td class=\"attr-name\">['examples']</td><td class = \"attrvalue\"><style>\n",
              ".tfx-object.expanded {\n",
              "  padding: 4px 8px 4px 8px;\n",
              "  background: white;\n",
              "  border: 1px solid #bbbbbb;\n",
              "  box-shadow: 4px 4px 2px rgba(0,0,0,0.05);\n",
              "}\n",
              "html[theme=dark] .tfx-object.expanded {\n",
              "  background: black;\n",
              "}\n",
              ".tfx-object, .tfx-object * {\n",
              "  font-size: 11pt;\n",
              "}\n",
              ".tfx-object > .title {\n",
              "  cursor: pointer;\n",
              "}\n",
              ".tfx-object .expansion-marker {\n",
              "  color: #999999;\n",
              "}\n",
              ".tfx-object.expanded > .title > .expansion-marker:before {\n",
              "  content: '▼';\n",
              "}\n",
              ".tfx-object.collapsed > .title > .expansion-marker:before {\n",
              "  content: '▶';\n",
              "}\n",
              ".tfx-object .class-name {\n",
              "  font-weight: bold;\n",
              "}\n",
              ".tfx-object .deemphasize {\n",
              "  opacity: 0.5;\n",
              "}\n",
              ".tfx-object.collapsed > table.attr-table {\n",
              "  display: none;\n",
              "}\n",
              ".tfx-object.expanded > table.attr-table {\n",
              "  display: block;\n",
              "}\n",
              ".tfx-object table.attr-table {\n",
              "  border: 2px solid white;\n",
              "  margin-top: 5px;\n",
              "}\n",
              "html[theme=dark] .tfx-object table.attr-table {\n",
              "  border: 2px solid black;\n",
              "}\n",
              ".tfx-object table.attr-table td.attr-name {\n",
              "  vertical-align: top;\n",
              "  font-weight: bold;\n",
              "}\n",
              ".tfx-object table.attr-table td.attrvalue {\n",
              "  text-align: left;\n",
              "}\n",
              "</style>\n",
              "<script>\n",
              "function toggleTfxObject(element) {\n",
              "  var objElement = element.parentElement;\n",
              "  if (objElement.classList.contains('collapsed')) {\n",
              "    objElement.classList.remove('collapsed');\n",
              "    objElement.classList.add('expanded');\n",
              "  } else {\n",
              "    objElement.classList.add('collapsed');\n",
              "    objElement.classList.remove('expanded');\n",
              "  }\n",
              "}\n",
              "</script>\n",
              "<div class=\"tfx-object collapsed\"><div class = \"title\" onclick=\"toggleTfxObject(this)\"><span class=\"expansion-marker\"></span><span class=\"class-name\">Channel</span> of type <span class=\"class-name\">'Examples'</span> (1 artifact)<span class=\"deemphasize\"> at 0x7efed207cad0</span></div><table class=\"attr-table\"><tr><td class=\"attr-name\">.type_name</td><td class = \"attrvalue\">Examples</td></tr><tr><td class=\"attr-name\">._artifacts</td><td class = \"attrvalue\"><table class=\"attr-table\"><tr><td class=\"attr-name\">[0]</td><td class = \"attrvalue\"><style>\n",
              ".tfx-object.expanded {\n",
              "  padding: 4px 8px 4px 8px;\n",
              "  background: white;\n",
              "  border: 1px solid #bbbbbb;\n",
              "  box-shadow: 4px 4px 2px rgba(0,0,0,0.05);\n",
              "}\n",
              "html[theme=dark] .tfx-object.expanded {\n",
              "  background: black;\n",
              "}\n",
              ".tfx-object, .tfx-object * {\n",
              "  font-size: 11pt;\n",
              "}\n",
              ".tfx-object > .title {\n",
              "  cursor: pointer;\n",
              "}\n",
              ".tfx-object .expansion-marker {\n",
              "  color: #999999;\n",
              "}\n",
              ".tfx-object.expanded > .title > .expansion-marker:before {\n",
              "  content: '▼';\n",
              "}\n",
              ".tfx-object.collapsed > .title > .expansion-marker:before {\n",
              "  content: '▶';\n",
              "}\n",
              ".tfx-object .class-name {\n",
              "  font-weight: bold;\n",
              "}\n",
              ".tfx-object .deemphasize {\n",
              "  opacity: 0.5;\n",
              "}\n",
              ".tfx-object.collapsed > table.attr-table {\n",
              "  display: none;\n",
              "}\n",
              ".tfx-object.expanded > table.attr-table {\n",
              "  display: block;\n",
              "}\n",
              ".tfx-object table.attr-table {\n",
              "  border: 2px solid white;\n",
              "  margin-top: 5px;\n",
              "}\n",
              "html[theme=dark] .tfx-object table.attr-table {\n",
              "  border: 2px solid black;\n",
              "}\n",
              ".tfx-object table.attr-table td.attr-name {\n",
              "  vertical-align: top;\n",
              "  font-weight: bold;\n",
              "}\n",
              ".tfx-object table.attr-table td.attrvalue {\n",
              "  text-align: left;\n",
              "}\n",
              "</style>\n",
              "<script>\n",
              "function toggleTfxObject(element) {\n",
              "  var objElement = element.parentElement;\n",
              "  if (objElement.classList.contains('collapsed')) {\n",
              "    objElement.classList.remove('collapsed');\n",
              "    objElement.classList.add('expanded');\n",
              "  } else {\n",
              "    objElement.classList.add('collapsed');\n",
              "    objElement.classList.remove('expanded');\n",
              "  }\n",
              "}\n",
              "</script>\n",
              "<div class=\"tfx-object collapsed\"><div class = \"title\" onclick=\"toggleTfxObject(this)\"><span class=\"expansion-marker\"></span><span class=\"class-name\">Artifact</span> of type <span class=\"class-name\">'Examples'</span> (uri: /tmp/tfx-interactive-2022-08-11T23_50_52.905159-v90yotir/CsvExampleGen/examples/1)<span class=\"deemphasize\"> at 0x7efe54f3a2d0</span></div><table class=\"attr-table\"><tr><td class=\"attr-name\">.type</td><td class = \"attrvalue\">&lt;class &#x27;tfx.types.standard_artifacts.Examples&#x27;&gt;</td></tr><tr><td class=\"attr-name\">.uri</td><td class = \"attrvalue\">/tmp/tfx-interactive-2022-08-11T23_50_52.905159-v90yotir/CsvExampleGen/examples/1</td></tr><tr><td class=\"attr-name\">.span</td><td class = \"attrvalue\">0</td></tr><tr><td class=\"attr-name\">.split_names</td><td class = \"attrvalue\">[&quot;train&quot;, &quot;eval&quot;]</td></tr><tr><td class=\"attr-name\">.version</td><td class = \"attrvalue\">0</td></tr></table></div></td></tr></table></td></tr></table></div></td></tr></table></td></tr></table></div>"
            ],
            "text/plain": [
              "ExecutionResult(\n",
              "    component_id: CsvExampleGen\n",
              "    execution_id: 1\n",
              "    outputs:\n",
              "        examples: OutputChannel(artifact_type=Examples, producer_component_id=CsvExampleGen, output_key=examples, additional_properties={}, additional_custom_properties={}))"
            ]
          },
          "execution_count": 8,
          "metadata": {},
          "output_type": "execute_result"
        }
      ],
      "source": [
        "example_gen = tfx.components.CsvExampleGen(input_base=DATA_ROOT)\n",
        "context.run(example_gen, enable_cache=True)"
      ]
    },
    {
      "cell_type": "markdown",
      "metadata": {
        "id": "K5ix-k4PMXr7"
      },
      "source": [
        "### Calculate and display the dataset statistics"
      ]
    },
    {
      "cell_type": "code",
      "execution_count": 9,
      "metadata": {
        "colab": {
          "base_uri": "https://localhost:8080/",
          "height": 1000
        },
        "id": "7GnJeO0nMgEr",
        "outputId": "c02c6086-e192-4429-89ee-4ab7e20a96df"
      },
      "outputs": [
        {
          "name": "stderr",
          "output_type": "stream",
          "text": [
            "INFO:absl:Excluding no splits because exclude_splits is not set.\n",
            "INFO:absl:Running driver for StatisticsGen\n",
            "INFO:absl:MetadataStore with DB connection initialized\n",
            "INFO:absl:Running executor for StatisticsGen\n",
            "INFO:absl:Generating statistics for split train.\n",
            "INFO:absl:Statistics for split train written to /tmp/tfx-interactive-2022-08-11T23_50_52.905159-v90yotir/StatisticsGen/statistics/2/Split-train.\n",
            "INFO:absl:Generating statistics for split eval.\n",
            "INFO:absl:Statistics for split eval written to /tmp/tfx-interactive-2022-08-11T23_50_52.905159-v90yotir/StatisticsGen/statistics/2/Split-eval.\n",
            "INFO:absl:Running publisher for StatisticsGen\n",
            "INFO:absl:MetadataStore with DB connection initialized\n"
          ]
        },
        {
          "data": {
            "text/html": [
              "<b>Artifact at /tmp/tfx-interactive-2022-08-11T23_50_52.905159-v90yotir/StatisticsGen/statistics/2</b><br/><br/>"
            ],
            "text/plain": [
              "<IPython.core.display.HTML object>"
            ]
          },
          "metadata": {},
          "output_type": "display_data"
        },
        {
          "data": {
            "text/html": [
              "<div><b>'train' split:</b></div><br/>"
            ],
            "text/plain": [
              "<IPython.core.display.HTML object>"
            ]
          },
          "metadata": {},
          "output_type": "display_data"
        },
        {
          "data": {
            "text/html": [
              "<iframe id='facets-iframe' width=\"100%\" height=\"500px\"></iframe>\n",
              "        <script>\n",
              "        facets_iframe = document.getElementById('facets-iframe');\n",
              "        facets_html = '<script src=\"https://cdnjs.cloudflare.com/ajax/libs/webcomponentsjs/1.3.3/webcomponents-lite.js\"><\\/script><link rel=\"import\" href=\"https://raw.githubusercontent.com/PAIR-code/facets/master/facets-dist/facets-jupyter.html\"><facets-overview proto-input=\"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\"></facets-overview>';\n",
              "        facets_iframe.srcdoc = facets_html;\n",
              "         facets_iframe.id = \"\";\n",
              "         setTimeout(() => {\n",
              "           facets_iframe.setAttribute('height', facets_iframe.contentWindow.document.body.offsetHeight + 'px')\n",
              "         }, 1500)\n",
              "         </script>"
            ],
            "text/plain": [
              "<IPython.core.display.HTML object>"
            ]
          },
          "metadata": {},
          "output_type": "display_data"
        },
        {
          "data": {
            "text/html": [
              "<div><b>'eval' split:</b></div><br/>"
            ],
            "text/plain": [
              "<IPython.core.display.HTML object>"
            ]
          },
          "metadata": {},
          "output_type": "display_data"
        },
        {
          "data": {
            "text/html": [
              "<iframe id='facets-iframe' width=\"100%\" height=\"500px\"></iframe>\n",
              "        <script>\n",
              "        facets_iframe = document.getElementById('facets-iframe');\n",
              "        facets_html = '<script src=\"https://cdnjs.cloudflare.com/ajax/libs/webcomponentsjs/1.3.3/webcomponents-lite.js\"><\\/script><link rel=\"import\" href=\"https://raw.githubusercontent.com/PAIR-code/facets/master/facets-dist/facets-jupyter.html\"><facets-overview proto-input=\"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\"></facets-overview>';\n",
              "        facets_iframe.srcdoc = facets_html;\n",
              "         facets_iframe.id = \"\";\n",
              "         setTimeout(() => {\n",
              "           facets_iframe.setAttribute('height', facets_iframe.contentWindow.document.body.offsetHeight + 'px')\n",
              "         }, 1500)\n",
              "         </script>"
            ],
            "text/plain": [
              "<IPython.core.display.HTML object>"
            ]
          },
          "metadata": {},
          "output_type": "display_data"
        }
      ],
      "source": [
        "statistics_gen = tfx.components.StatisticsGen(\n",
        "    examples=example_gen.outputs['examples'])\n",
        "context.run(statistics_gen, enable_cache=True)\n",
        "context.show(statistics_gen.outputs['statistics'])"
      ]
    },
    {
      "cell_type": "markdown",
      "metadata": {
        "id": "p1O5dhUfMph7"
      },
      "source": [
        "### Infer the dataset schema"
      ]
    },
    {
      "cell_type": "code",
      "execution_count": 10,
      "metadata": {
        "colab": {
          "base_uri": "https://localhost:8080/",
          "height": 649
        },
        "id": "vtUZaV7TMtQS",
        "outputId": "1730620d-63e6-412f-a236-bde5a2fa9fde"
      },
      "outputs": [
        {
          "name": "stderr",
          "output_type": "stream",
          "text": [
            "INFO:absl:Excluding no splits because exclude_splits is not set.\n",
            "INFO:absl:Running driver for SchemaGen\n",
            "INFO:absl:MetadataStore with DB connection initialized\n",
            "INFO:absl:Running executor for SchemaGen\n",
            "INFO:absl:Processing schema from statistics for split train.\n",
            "INFO:absl:Processing schema from statistics for split eval.\n",
            "INFO:absl:Schema written to /tmp/tfx-interactive-2022-08-11T23_50_52.905159-v90yotir/SchemaGen/schema/3/schema.pbtxt.\n",
            "INFO:absl:Running publisher for SchemaGen\n",
            "INFO:absl:MetadataStore with DB connection initialized\n"
          ]
        },
        {
          "data": {
            "text/html": [
              "<b>Artifact at /tmp/tfx-interactive-2022-08-11T23_50_52.905159-v90yotir/SchemaGen/schema/3</b><br/><br/>"
            ],
            "text/plain": [
              "<IPython.core.display.HTML object>"
            ]
          },
          "metadata": {},
          "output_type": "display_data"
        },
        {
          "data": {
            "text/html": [
              "\n",
              "  <div id=\"df-eec8df49-730d-42c6-8cb3-8e6306607594\">\n",
              "    <div class=\"colab-df-container\">\n",
              "      <div>\n",
              "<style scoped>\n",
              "    .dataframe tbody tr th:only-of-type {\n",
              "        vertical-align: middle;\n",
              "    }\n",
              "\n",
              "    .dataframe tbody tr th {\n",
              "        vertical-align: top;\n",
              "    }\n",
              "\n",
              "    .dataframe thead th {\n",
              "        text-align: right;\n",
              "    }\n",
              "</style>\n",
              "<table border=\"1\" class=\"dataframe\">\n",
              "  <thead>\n",
              "    <tr style=\"text-align: right;\">\n",
              "      <th></th>\n",
              "      <th>Type</th>\n",
              "      <th>Presence</th>\n",
              "      <th>Valency</th>\n",
              "      <th>Domain</th>\n",
              "    </tr>\n",
              "    <tr>\n",
              "      <th>Feature name</th>\n",
              "      <th></th>\n",
              "      <th></th>\n",
              "      <th></th>\n",
              "      <th></th>\n",
              "    </tr>\n",
              "  </thead>\n",
              "  <tbody>\n",
              "    <tr>\n",
              "      <th>'body_mass_g'</th>\n",
              "      <td>INT</td>\n",
              "      <td>required</td>\n",
              "      <td>single</td>\n",
              "      <td>-</td>\n",
              "    </tr>\n",
              "    <tr>\n",
              "      <th>'culmen_depth_mm'</th>\n",
              "      <td>FLOAT</td>\n",
              "      <td>required</td>\n",
              "      <td>single</td>\n",
              "      <td>-</td>\n",
              "    </tr>\n",
              "    <tr>\n",
              "      <th>'culmen_length_mm'</th>\n",
              "      <td>FLOAT</td>\n",
              "      <td>required</td>\n",
              "      <td>single</td>\n",
              "      <td>-</td>\n",
              "    </tr>\n",
              "    <tr>\n",
              "      <th>'flipper_length_mm'</th>\n",
              "      <td>INT</td>\n",
              "      <td>required</td>\n",
              "      <td>single</td>\n",
              "      <td>-</td>\n",
              "    </tr>\n",
              "    <tr>\n",
              "      <th>'island'</th>\n",
              "      <td>STRING</td>\n",
              "      <td>required</td>\n",
              "      <td>single</td>\n",
              "      <td>'island'</td>\n",
              "    </tr>\n",
              "    <tr>\n",
              "      <th>'sex'</th>\n",
              "      <td>STRING</td>\n",
              "      <td>required</td>\n",
              "      <td>single</td>\n",
              "      <td>'sex'</td>\n",
              "    </tr>\n",
              "    <tr>\n",
              "      <th>'species'</th>\n",
              "      <td>STRING</td>\n",
              "      <td>required</td>\n",
              "      <td>single</td>\n",
              "      <td>'species'</td>\n",
              "    </tr>\n",
              "  </tbody>\n",
              "</table>\n",
              "</div>\n",
              "      <button class=\"colab-df-convert\" onclick=\"convertToInteractive('df-eec8df49-730d-42c6-8cb3-8e6306607594')\"\n",
              "              title=\"Convert this dataframe to an interactive table.\"\n",
              "              style=\"display:none;\">\n",
              "        \n",
              "  <svg xmlns=\"http://www.w3.org/2000/svg\" height=\"24px\"viewBox=\"0 0 24 24\"\n",
              "       width=\"24px\">\n",
              "    <path d=\"M0 0h24v24H0V0z\" fill=\"none\"/>\n",
              "    <path d=\"M18.56 5.44l.94 2.06.94-2.06 2.06-.94-2.06-.94-.94-2.06-.94 2.06-2.06.94zm-11 1L8.5 8.5l.94-2.06 2.06-.94-2.06-.94L8.5 2.5l-.94 2.06-2.06.94zm10 10l.94 2.06.94-2.06 2.06-.94-2.06-.94-.94-2.06-.94 2.06-2.06.94z\"/><path d=\"M17.41 7.96l-1.37-1.37c-.4-.4-.92-.59-1.43-.59-.52 0-1.04.2-1.43.59L10.3 9.45l-7.72 7.72c-.78.78-.78 2.05 0 2.83L4 21.41c.39.39.9.59 1.41.59.51 0 1.02-.2 1.41-.59l7.78-7.78 2.81-2.81c.8-.78.8-2.07 0-2.86zM5.41 20L4 18.59l7.72-7.72 1.47 1.35L5.41 20z\"/>\n",
              "  </svg>\n",
              "      </button>\n",
              "      \n",
              "  <style>\n",
              "    .colab-df-container {\n",
              "      display:flex;\n",
              "      flex-wrap:wrap;\n",
              "      gap: 12px;\n",
              "    }\n",
              "\n",
              "    .colab-df-convert {\n",
              "      background-color: #E8F0FE;\n",
              "      border: none;\n",
              "      border-radius: 50%;\n",
              "      cursor: pointer;\n",
              "      display: none;\n",
              "      fill: #1967D2;\n",
              "      height: 32px;\n",
              "      padding: 0 0 0 0;\n",
              "      width: 32px;\n",
              "    }\n",
              "\n",
              "    .colab-df-convert:hover {\n",
              "      background-color: #E2EBFA;\n",
              "      box-shadow: 0px 1px 2px rgba(60, 64, 67, 0.3), 0px 1px 3px 1px rgba(60, 64, 67, 0.15);\n",
              "      fill: #174EA6;\n",
              "    }\n",
              "\n",
              "    [theme=dark] .colab-df-convert {\n",
              "      background-color: #3B4455;\n",
              "      fill: #D2E3FC;\n",
              "    }\n",
              "\n",
              "    [theme=dark] .colab-df-convert:hover {\n",
              "      background-color: #434B5C;\n",
              "      box-shadow: 0px 1px 3px 1px rgba(0, 0, 0, 0.15);\n",
              "      filter: drop-shadow(0px 1px 2px rgba(0, 0, 0, 0.3));\n",
              "      fill: #FFFFFF;\n",
              "    }\n",
              "  </style>\n",
              "\n",
              "      <script>\n",
              "        const buttonEl =\n",
              "          document.querySelector('#df-eec8df49-730d-42c6-8cb3-8e6306607594 button.colab-df-convert');\n",
              "        buttonEl.style.display =\n",
              "          google.colab.kernel.accessAllowed ? 'block' : 'none';\n",
              "\n",
              "        async function convertToInteractive(key) {\n",
              "          const element = document.querySelector('#df-eec8df49-730d-42c6-8cb3-8e6306607594');\n",
              "          const dataTable =\n",
              "            await google.colab.kernel.invokeFunction('convertToInteractive',\n",
              "                                                     [key], {});\n",
              "          if (!dataTable) return;\n",
              "\n",
              "          const docLinkHtml = 'Like what you see? Visit the ' +\n",
              "            '<a target=\"_blank\" href=https://colab.research.google.com/notebooks/data_table.ipynb>data table notebook</a>'\n",
              "            + ' to learn more about interactive tables.';\n",
              "          element.innerHTML = '';\n",
              "          dataTable['output_type'] = 'display_data';\n",
              "          await google.colab.output.renderOutput(dataTable, element);\n",
              "          const docLink = document.createElement('div');\n",
              "          docLink.innerHTML = docLinkHtml;\n",
              "          element.appendChild(docLink);\n",
              "        }\n",
              "      </script>\n",
              "    </div>\n",
              "  </div>\n",
              "  "
            ],
            "text/plain": [
              "                       Type  Presence Valency     Domain\n",
              "Feature name                                            \n",
              "'body_mass_g'           INT  required  single          -\n",
              "'culmen_depth_mm'     FLOAT  required  single          -\n",
              "'culmen_length_mm'    FLOAT  required  single          -\n",
              "'flipper_length_mm'     INT  required  single          -\n",
              "'island'             STRING  required  single   'island'\n",
              "'sex'                STRING  required  single      'sex'\n",
              "'species'            STRING  required  single  'species'"
            ]
          },
          "metadata": {},
          "output_type": "display_data"
        },
        {
          "data": {
            "text/html": [
              "\n",
              "  <div id=\"df-1b4b9506-6f3d-48c6-b0cf-a08ec59d090f\">\n",
              "    <div class=\"colab-df-container\">\n",
              "      <div>\n",
              "<style scoped>\n",
              "    .dataframe tbody tr th:only-of-type {\n",
              "        vertical-align: middle;\n",
              "    }\n",
              "\n",
              "    .dataframe tbody tr th {\n",
              "        vertical-align: top;\n",
              "    }\n",
              "\n",
              "    .dataframe thead th {\n",
              "        text-align: right;\n",
              "    }\n",
              "</style>\n",
              "<table border=\"1\" class=\"dataframe\">\n",
              "  <thead>\n",
              "    <tr style=\"text-align: right;\">\n",
              "      <th></th>\n",
              "      <th>Values</th>\n",
              "    </tr>\n",
              "    <tr>\n",
              "      <th>Domain</th>\n",
              "      <th></th>\n",
              "    </tr>\n",
              "  </thead>\n",
              "  <tbody>\n",
              "    <tr>\n",
              "      <th>'island'</th>\n",
              "      <td>'Biscoe', 'Dream', 'Torgersen'</td>\n",
              "    </tr>\n",
              "    <tr>\n",
              "      <th>'sex'</th>\n",
              "      <td>'FEMALE', 'MALE', '.'</td>\n",
              "    </tr>\n",
              "    <tr>\n",
              "      <th>'species'</th>\n",
              "      <td>'Adelie', 'Chinstrap', 'Gentoo'</td>\n",
              "    </tr>\n",
              "  </tbody>\n",
              "</table>\n",
              "</div>\n",
              "      <button class=\"colab-df-convert\" onclick=\"convertToInteractive('df-1b4b9506-6f3d-48c6-b0cf-a08ec59d090f')\"\n",
              "              title=\"Convert this dataframe to an interactive table.\"\n",
              "              style=\"display:none;\">\n",
              "        \n",
              "  <svg xmlns=\"http://www.w3.org/2000/svg\" height=\"24px\"viewBox=\"0 0 24 24\"\n",
              "       width=\"24px\">\n",
              "    <path d=\"M0 0h24v24H0V0z\" fill=\"none\"/>\n",
              "    <path d=\"M18.56 5.44l.94 2.06.94-2.06 2.06-.94-2.06-.94-.94-2.06-.94 2.06-2.06.94zm-11 1L8.5 8.5l.94-2.06 2.06-.94-2.06-.94L8.5 2.5l-.94 2.06-2.06.94zm10 10l.94 2.06.94-2.06 2.06-.94-2.06-.94-.94-2.06-.94 2.06-2.06.94z\"/><path d=\"M17.41 7.96l-1.37-1.37c-.4-.4-.92-.59-1.43-.59-.52 0-1.04.2-1.43.59L10.3 9.45l-7.72 7.72c-.78.78-.78 2.05 0 2.83L4 21.41c.39.39.9.59 1.41.59.51 0 1.02-.2 1.41-.59l7.78-7.78 2.81-2.81c.8-.78.8-2.07 0-2.86zM5.41 20L4 18.59l7.72-7.72 1.47 1.35L5.41 20z\"/>\n",
              "  </svg>\n",
              "      </button>\n",
              "      \n",
              "  <style>\n",
              "    .colab-df-container {\n",
              "      display:flex;\n",
              "      flex-wrap:wrap;\n",
              "      gap: 12px;\n",
              "    }\n",
              "\n",
              "    .colab-df-convert {\n",
              "      background-color: #E8F0FE;\n",
              "      border: none;\n",
              "      border-radius: 50%;\n",
              "      cursor: pointer;\n",
              "      display: none;\n",
              "      fill: #1967D2;\n",
              "      height: 32px;\n",
              "      padding: 0 0 0 0;\n",
              "      width: 32px;\n",
              "    }\n",
              "\n",
              "    .colab-df-convert:hover {\n",
              "      background-color: #E2EBFA;\n",
              "      box-shadow: 0px 1px 2px rgba(60, 64, 67, 0.3), 0px 1px 3px 1px rgba(60, 64, 67, 0.15);\n",
              "      fill: #174EA6;\n",
              "    }\n",
              "\n",
              "    [theme=dark] .colab-df-convert {\n",
              "      background-color: #3B4455;\n",
              "      fill: #D2E3FC;\n",
              "    }\n",
              "\n",
              "    [theme=dark] .colab-df-convert:hover {\n",
              "      background-color: #434B5C;\n",
              "      box-shadow: 0px 1px 3px 1px rgba(0, 0, 0, 0.15);\n",
              "      filter: drop-shadow(0px 1px 2px rgba(0, 0, 0, 0.3));\n",
              "      fill: #FFFFFF;\n",
              "    }\n",
              "  </style>\n",
              "\n",
              "      <script>\n",
              "        const buttonEl =\n",
              "          document.querySelector('#df-1b4b9506-6f3d-48c6-b0cf-a08ec59d090f button.colab-df-convert');\n",
              "        buttonEl.style.display =\n",
              "          google.colab.kernel.accessAllowed ? 'block' : 'none';\n",
              "\n",
              "        async function convertToInteractive(key) {\n",
              "          const element = document.querySelector('#df-1b4b9506-6f3d-48c6-b0cf-a08ec59d090f');\n",
              "          const dataTable =\n",
              "            await google.colab.kernel.invokeFunction('convertToInteractive',\n",
              "                                                     [key], {});\n",
              "          if (!dataTable) return;\n",
              "\n",
              "          const docLinkHtml = 'Like what you see? Visit the ' +\n",
              "            '<a target=\"_blank\" href=https://colab.research.google.com/notebooks/data_table.ipynb>data table notebook</a>'\n",
              "            + ' to learn more about interactive tables.';\n",
              "          element.innerHTML = '';\n",
              "          dataTable['output_type'] = 'display_data';\n",
              "          await google.colab.output.renderOutput(dataTable, element);\n",
              "          const docLink = document.createElement('div');\n",
              "          docLink.innerHTML = docLinkHtml;\n",
              "          element.appendChild(docLink);\n",
              "        }\n",
              "      </script>\n",
              "    </div>\n",
              "  </div>\n",
              "  "
            ],
            "text/plain": [
              "                                    Values\n",
              "Domain                                    \n",
              "'island'    'Biscoe', 'Dream', 'Torgersen'\n",
              "'sex'                'FEMALE', 'MALE', '.'\n",
              "'species'  'Adelie', 'Chinstrap', 'Gentoo'"
            ]
          },
          "metadata": {},
          "output_type": "display_data"
        }
      ],
      "source": [
        "schema_gen = tfx.components.SchemaGen(\n",
        "    statistics=statistics_gen.outputs['statistics'],\n",
        "    infer_feature_shape=False)\n",
        "context.run(schema_gen, enable_cache=True)\n",
        "context.show(schema_gen.outputs['schema'])"
      ]
    },
    {
      "cell_type": "markdown",
      "metadata": {
        "id": "mebd8eC-PGyv"
      },
      "source": [
        "## Use PandasTranform to Perform Feature Engineering\n",
        "\n",
        "PandasTransform enables users to perform feature engineering in dataframes, using either Pandas, Modin, Numpy, Scikit, or another library which supports dataframes.\n",
        "\n",
        "**Important Note:** Because processing is distributed by Beam across a cluster of compute nodes, each invocation of PandasTransform will recieve a subset of the data. That means that **operations which require full passes over the dataset are not supported.**\n",
        "\n",
        "If you require full passes over the dataset, you are encouraged to use TensorFlow Transform instead.  However, since PandasTransform is designed to receive a dict of the summary statistics which are created by StatisticsGen (or other tooling) then you can often use those values to avoid making a full pass over the data.\n",
        "\n",
        "**Important Note:** Unlike TensorFlow Transform, PandasTransform does not create a preprocessing TensorFlow graph to be prepended to your trained model.  That means that you **MUST** perform the equivalent preprocessing in your serving client or a similar location in your system."
      ]
    },
    {
      "cell_type": "code",
      "execution_count": 11,
      "metadata": {
        "id": "l4p6LN77PQPx"
      },
      "outputs": [],
      "source": [
        "module_file = 'my_module_file.py'"
      ]
    },
    {
      "cell_type": "markdown",
      "metadata": {
        "id": "RFl_GUKqUydP"
      },
      "source": [
        "We will normalize the numeric features using Z-score."
      ]
    },
    {
      "cell_type": "code",
      "execution_count": 12,
      "metadata": {
        "colab": {
          "base_uri": "https://localhost:8080/"
        },
        "id": "oIEQLwqdRW9B",
        "outputId": "1eb96332-d0b0-4c0e-e86a-1a450122b065"
      },
      "outputs": [
        {
          "name": "stdout",
          "output_type": "stream",
          "text": [
            "Writing my_module_file.py\n"
          ]
        }
      ],
      "source": [
        "%%writefile {module_file}\n",
        "\n",
        "import numpy as np\n",
        "from absl import logging\n",
        "\n",
        "def preprocessing_fn(df, schema, statistics):\n",
        "  def zscore(x, stats=None):\n",
        "    if x.isnull()[0] or stats[x.name]['std_dev'] == 0.0:\n",
        "      return x\n",
        "    else:\n",
        "      y = (x - stats[x.name]['mean']) / stats[x.name]['std_dev']\n",
        "      return y.astype(x.dtype) # to maintain type consistency\n",
        "    \n",
        "  logging.info('  Running user code with {} rows in a {}'.format(len(df), type(df)))\n",
        "  numeric_cols = df.select_dtypes(include=[np.number]).columns\n",
        "  df = df[numeric_cols].apply(zscore, stats=statistics)\n",
        "  return df"
      ]
    },
    {
      "cell_type": "code",
      "execution_count": null,
      "metadata": {
        "id": "2pbdv92zRi85"
      },
      "outputs": [],
      "source": [
        "from tfx_addons.pandas_transform import PandasTransform\n",
        "\n",
        "panda = PandasTransform(\n",
        "    examples=example_gen.outputs['examples'],\n",
        "    schema=schema_gen.outputs['schema'],\n",
        "    statistics=statistics_gen.outputs['statistics'],\n",
        "    module_file = os.path.abspath(module_file)\n",
        ")\n",
        "context.run(panda, enable_cache=False)"
      ]
    },
    {
      "cell_type": "markdown",
      "metadata": {
        "id": "8zBGBKxWR8dA"
      },
      "source": [
        "Examine the transformed dataset"
      ]
    },
    {
      "cell_type": "code",
      "execution_count": null,
      "metadata": {
        "id": "MOnfusmtRtEd"
      },
      "outputs": [],
      "source": [
        "statistics_gen2 = tfx.components.StatisticsGen(\n",
        "    examples=panda.outputs['transformed_examples'])\n",
        "context.run(statistics_gen2, enable_cache=False)\n",
        "context.show(statistics_gen2.outputs['statistics'])"
      ]
    }
  ],
  "metadata": {
    "colab": {
      "collapsed_sections": [
        "DjUA6S30k52h"
      ],
      "name": "PandasTransform.example.ipynb",
      "provenance": [],
      "toc_visible": true
    },
    "kernelspec": {
      "display_name": "Python 3.8.2 64-bit ('pandas')",
      "language": "python",
      "name": "python3"
    },
    "language_info": {
      "name": "python",
      "version": "3.8.2"
    },
    "vscode": {
      "interpreter": {
        "hash": "b9f806c0aeebb5f009fabbd5afccdb41c85f1a9a6c33e791c682802e6f8f035c"
      }
    }
  },
  "nbformat": 4,
  "nbformat_minor": 0
}
